{
 "cells": [
  {
   "cell_type": "markdown",
   "id": "14f93197",
   "metadata": {},
   "source": [
    "## Project Mobile Price Classification \n",
    "\n",
    "## GOAL \n",
    "Find the best machine learning model/method for our dataset\n",
    "<br/>\n",
    "## Executive Summary\n",
    "This is a mobile price classification dataset from Kaggle. The reason that I choose this dataset is that it is a supervised learning problem. We are examing machine learning algorithms on the mobile dataset to predict the mobile price and decided which model is the best one for this dataset. <br/>\n",
    "\n",
    "we will be using three methods<br/>\n",
    "### \"i\":  Classifier methods <br/>\n",
    "### \"ii\": Ensemble method  <br/>\n",
    "### \"iii\":Deep learning, neural network method"
   ]
  },
  {
   "cell_type": "code",
   "execution_count": null,
   "id": "489b1ba8",
   "metadata": {},
   "outputs": [],
   "source": [
    "import numpy as np # linear algebra\n",
    "import pandas as pd # data processing, CSV file I/O (e.g. pd.read_csv)\n",
    "import matplotlib.pyplot as plt\n",
    "import seaborn as sns\n",
    "\n",
    "#ml libary\n",
    "from mlens.ensemble import SuperLearner\n",
    "from mlens.model_selection import Evaluator\n",
    "from mlens.metrics import make_scorer\n",
    "from sklearn.metrics import accuracy_score\n",
    "\n",
    "#classifier libaries\n",
    "from mlens.ensemble import SuperLearner\n",
    "from sklearn.metrics import accuracy_score\n",
    "from mlens.model_selection import Evaluator\n",
    "from mlens.metrics import make_scorer\n",
    "from sklearn import metrics\n",
    "from sklearn.linear_model import LogisticRegression\n",
    "from sklearn.naive_bayes import GaussianNB\n",
    "from sklearn.ensemble import RandomForestClassifier\n",
    "from sklearn.svm import SVC\n",
    "from sklearn.neighbors import KNeighborsClassifier\n",
    "from sklearn.tree import DecisionTreeClassifier\n",
    "from sklearn.ensemble import AdaBoostClassifier\n",
    "from sklearn.ensemble import BaggingClassifier\n",
    "from sklearn.ensemble import GradientBoostingClassifier\n",
    "import xgboost as xgb\n",
    "from xgboost.sklearn import XGBClassifier\n",
    "import warnings\n",
    "warnings.filterwarnings(\"ignore\")\n",
    "import pandas\n",
    "from sklearn.svm import SVC\n",
    "import sklearn\n",
    "import pandas \n",
    "from sklearn.model_selection import train_test_split\n",
    "from sklearn.preprocessing import StandardScaler\n",
    "from sklearn.preprocessing import OneHotEncoder\n",
    "from sklearn import preprocessing\n",
    "\n",
    "#tensorflow\n",
    "import keras\n",
    "from keras.models import Sequential\n",
    "from keras.layers import Dense\n",
    "import tensorflow as tf"
   ]
  },
  {
   "cell_type": "markdown",
   "id": "7973ceb2",
   "metadata": {},
   "source": [
    "## Data Understanding\n",
    "\n",
    "2000 rows, and 21 features <br/>\n",
    "We have features like mobile's battery power,mobile weight,mobile cores and etc to predict the target \"price_range\"<br/>\n",
    "No null value"
   ]
  },
  {
   "cell_type": "code",
   "execution_count": 1,
   "id": "9b387e05",
   "metadata": {},
   "outputs": [
    {
     "name": "stderr",
     "output_type": "stream",
     "text": [
      "[MLENS] backend: threading\n"
     ]
    },
    {
     "name": "stdout",
     "output_type": "stream",
     "text": [
      "<class 'pandas.core.frame.DataFrame'>\n",
      "RangeIndex: 2000 entries, 0 to 1999\n",
      "Data columns (total 21 columns):\n",
      " #   Column         Non-Null Count  Dtype  \n",
      "---  ------         --------------  -----  \n",
      " 0   battery_power  2000 non-null   int64  \n",
      " 1   blue           2000 non-null   int64  \n",
      " 2   clock_speed    2000 non-null   float64\n",
      " 3   dual_sim       2000 non-null   int64  \n",
      " 4   fc             2000 non-null   int64  \n",
      " 5   four_g         2000 non-null   int64  \n",
      " 6   int_memory     2000 non-null   int64  \n",
      " 7   m_dep          2000 non-null   float64\n",
      " 8   mobile_wt      2000 non-null   int64  \n",
      " 9   n_cores        2000 non-null   int64  \n",
      " 10  pc             2000 non-null   int64  \n",
      " 11  px_height      2000 non-null   int64  \n",
      " 12  px_width       2000 non-null   int64  \n",
      " 13  ram            2000 non-null   int64  \n",
      " 14  sc_h           2000 non-null   int64  \n",
      " 15  sc_w           2000 non-null   int64  \n",
      " 16  talk_time      2000 non-null   int64  \n",
      " 17  three_g        2000 non-null   int64  \n",
      " 18  touch_screen   2000 non-null   int64  \n",
      " 19  wifi           2000 non-null   int64  \n",
      " 20  price_range    2000 non-null   int64  \n",
      "dtypes: float64(2), int64(19)\n",
      "memory usage: 328.2 KB\n",
      "None\n",
      "21\n"
     ]
    },
    {
     "data": {
      "text/html": [
       "<div>\n",
       "<style scoped>\n",
       "    .dataframe tbody tr th:only-of-type {\n",
       "        vertical-align: middle;\n",
       "    }\n",
       "\n",
       "    .dataframe tbody tr th {\n",
       "        vertical-align: top;\n",
       "    }\n",
       "\n",
       "    .dataframe thead th {\n",
       "        text-align: right;\n",
       "    }\n",
       "</style>\n",
       "<table border=\"1\" class=\"dataframe\">\n",
       "  <thead>\n",
       "    <tr style=\"text-align: right;\">\n",
       "      <th></th>\n",
       "      <th>battery_power</th>\n",
       "      <th>blue</th>\n",
       "      <th>clock_speed</th>\n",
       "      <th>dual_sim</th>\n",
       "      <th>fc</th>\n",
       "      <th>four_g</th>\n",
       "      <th>int_memory</th>\n",
       "      <th>m_dep</th>\n",
       "      <th>mobile_wt</th>\n",
       "      <th>n_cores</th>\n",
       "      <th>...</th>\n",
       "      <th>px_height</th>\n",
       "      <th>px_width</th>\n",
       "      <th>ram</th>\n",
       "      <th>sc_h</th>\n",
       "      <th>sc_w</th>\n",
       "      <th>talk_time</th>\n",
       "      <th>three_g</th>\n",
       "      <th>touch_screen</th>\n",
       "      <th>wifi</th>\n",
       "      <th>price_range</th>\n",
       "    </tr>\n",
       "  </thead>\n",
       "  <tbody>\n",
       "    <tr>\n",
       "      <th>1995</th>\n",
       "      <td>794</td>\n",
       "      <td>1</td>\n",
       "      <td>0.5</td>\n",
       "      <td>1</td>\n",
       "      <td>0</td>\n",
       "      <td>1</td>\n",
       "      <td>2</td>\n",
       "      <td>0.8</td>\n",
       "      <td>106</td>\n",
       "      <td>6</td>\n",
       "      <td>...</td>\n",
       "      <td>1222</td>\n",
       "      <td>1890</td>\n",
       "      <td>668</td>\n",
       "      <td>13</td>\n",
       "      <td>4</td>\n",
       "      <td>19</td>\n",
       "      <td>1</td>\n",
       "      <td>1</td>\n",
       "      <td>0</td>\n",
       "      <td>0</td>\n",
       "    </tr>\n",
       "    <tr>\n",
       "      <th>1996</th>\n",
       "      <td>1965</td>\n",
       "      <td>1</td>\n",
       "      <td>2.6</td>\n",
       "      <td>1</td>\n",
       "      <td>0</td>\n",
       "      <td>0</td>\n",
       "      <td>39</td>\n",
       "      <td>0.2</td>\n",
       "      <td>187</td>\n",
       "      <td>4</td>\n",
       "      <td>...</td>\n",
       "      <td>915</td>\n",
       "      <td>1965</td>\n",
       "      <td>2032</td>\n",
       "      <td>11</td>\n",
       "      <td>10</td>\n",
       "      <td>16</td>\n",
       "      <td>1</td>\n",
       "      <td>1</td>\n",
       "      <td>1</td>\n",
       "      <td>2</td>\n",
       "    </tr>\n",
       "    <tr>\n",
       "      <th>1997</th>\n",
       "      <td>1911</td>\n",
       "      <td>0</td>\n",
       "      <td>0.9</td>\n",
       "      <td>1</td>\n",
       "      <td>1</td>\n",
       "      <td>1</td>\n",
       "      <td>36</td>\n",
       "      <td>0.7</td>\n",
       "      <td>108</td>\n",
       "      <td>8</td>\n",
       "      <td>...</td>\n",
       "      <td>868</td>\n",
       "      <td>1632</td>\n",
       "      <td>3057</td>\n",
       "      <td>9</td>\n",
       "      <td>1</td>\n",
       "      <td>5</td>\n",
       "      <td>1</td>\n",
       "      <td>1</td>\n",
       "      <td>0</td>\n",
       "      <td>3</td>\n",
       "    </tr>\n",
       "    <tr>\n",
       "      <th>1998</th>\n",
       "      <td>1512</td>\n",
       "      <td>0</td>\n",
       "      <td>0.9</td>\n",
       "      <td>0</td>\n",
       "      <td>4</td>\n",
       "      <td>1</td>\n",
       "      <td>46</td>\n",
       "      <td>0.1</td>\n",
       "      <td>145</td>\n",
       "      <td>5</td>\n",
       "      <td>...</td>\n",
       "      <td>336</td>\n",
       "      <td>670</td>\n",
       "      <td>869</td>\n",
       "      <td>18</td>\n",
       "      <td>10</td>\n",
       "      <td>19</td>\n",
       "      <td>1</td>\n",
       "      <td>1</td>\n",
       "      <td>1</td>\n",
       "      <td>0</td>\n",
       "    </tr>\n",
       "    <tr>\n",
       "      <th>1999</th>\n",
       "      <td>510</td>\n",
       "      <td>1</td>\n",
       "      <td>2.0</td>\n",
       "      <td>1</td>\n",
       "      <td>5</td>\n",
       "      <td>1</td>\n",
       "      <td>45</td>\n",
       "      <td>0.9</td>\n",
       "      <td>168</td>\n",
       "      <td>6</td>\n",
       "      <td>...</td>\n",
       "      <td>483</td>\n",
       "      <td>754</td>\n",
       "      <td>3919</td>\n",
       "      <td>19</td>\n",
       "      <td>4</td>\n",
       "      <td>2</td>\n",
       "      <td>1</td>\n",
       "      <td>1</td>\n",
       "      <td>1</td>\n",
       "      <td>3</td>\n",
       "    </tr>\n",
       "  </tbody>\n",
       "</table>\n",
       "<p>5 rows × 21 columns</p>\n",
       "</div>"
      ],
      "text/plain": [
       "      battery_power  blue  clock_speed  dual_sim  fc  four_g  int_memory  \\\n",
       "1995            794     1          0.5         1   0       1           2   \n",
       "1996           1965     1          2.6         1   0       0          39   \n",
       "1997           1911     0          0.9         1   1       1          36   \n",
       "1998           1512     0          0.9         0   4       1          46   \n",
       "1999            510     1          2.0         1   5       1          45   \n",
       "\n",
       "      m_dep  mobile_wt  n_cores  ...  px_height  px_width   ram  sc_h  sc_w  \\\n",
       "1995    0.8        106        6  ...       1222      1890   668    13     4   \n",
       "1996    0.2        187        4  ...        915      1965  2032    11    10   \n",
       "1997    0.7        108        8  ...        868      1632  3057     9     1   \n",
       "1998    0.1        145        5  ...        336       670   869    18    10   \n",
       "1999    0.9        168        6  ...        483       754  3919    19     4   \n",
       "\n",
       "      talk_time  three_g  touch_screen  wifi  price_range  \n",
       "1995         19        1             1     0            0  \n",
       "1996         16        1             1     1            2  \n",
       "1997          5        1             1     0            3  \n",
       "1998         19        1             1     1            0  \n",
       "1999          2        1             1     1            3  \n",
       "\n",
       "[5 rows x 21 columns]"
      ]
     },
     "execution_count": 1,
     "metadata": {},
     "output_type": "execute_result"
    }
   ],
   "source": [
    "df = pd.read_csv(r'C:\\Users\\Guanyu\\Desktop\\Zhou-2021Fall-Courses\\2022 Spring DSCI-6003-01Machine learning\\HW\\Final Project\\train.csv')\n",
    "print(df.info())\n",
    "print(df.isnull().sum().count())\n",
    "df.tail()"
   ]
  },
  {
   "cell_type": "markdown",
   "id": "b5fab34b",
   "metadata": {},
   "source": [
    "## Exploratory Data Analysis\n"
   ]
  },
  {
   "cell_type": "markdown",
   "id": "077593b5",
   "metadata": {},
   "source": [
    "There is no outlier in our predcition target"
   ]
  },
  {
   "cell_type": "code",
   "execution_count": 2,
   "id": "10e93619",
   "metadata": {},
   "outputs": [
    {
     "data": {
      "text/plain": [
       "<AxesSubplot:xlabel='price_range'>"
      ]
     },
     "execution_count": 2,
     "metadata": {},
     "output_type": "execute_result"
    },
    {
     "data": {
      "image/png": "[encoded data removed]",
      "text/plain": [
       "<Figure size 600x400 with 1 Axes>"
      ]
     },
     "metadata": {
      "needs_background": "light"
     },
     "output_type": "display_data"
    }
   ],
   "source": [
    "#prediction target outlier detection\n",
    "plt.figure(dpi=100)\n",
    "sns.boxplot(data=df, x='price_range')"
   ]
  },
  {
   "cell_type": "markdown",
   "id": "03b51b17",
   "metadata": {},
   "source": [
    "Our \"Price_range\" prediction target has four classifications and they are equally distributed. <br/>\n",
    "we have a balanced dataset."
   ]
  },
  {
   "cell_type": "code",
   "execution_count": 3,
   "id": "8f65610f",
   "metadata": {},
   "outputs": [
    {
     "data": {
      "text/plain": [
       "price_range\n",
       "0              500\n",
       "1              500\n",
       "2              500\n",
       "3              500\n",
       "dtype: int64"
      ]
     },
     "execution_count": 3,
     "metadata": {},
     "output_type": "execute_result"
    }
   ],
   "source": [
    "##prediction target \n",
    "df_price_rage = df.iloc[: , -1:]\n",
    "df_price_rage.value_counts()"
   ]
  },
  {
   "cell_type": "markdown",
   "id": "cd87d999",
   "metadata": {},
   "source": [
    "## Preprocessing"
   ]
  },
  {
   "cell_type": "markdown",
   "id": "78a594e8",
   "metadata": {},
   "source": [
    "#### (1)check if the data is balanced distributed and decide if we need to scale the data <br/>\n",
    "\n",
    "Below picutres showing our features are balanced distributed and no need to scale our data"
   ]
  },
  {
   "cell_type": "code",
   "execution_count": 4,
   "id": "a3bed808",
   "metadata": {},
   "outputs": [
    {
     "data": {
      "text/plain": [
       "(0.0, 20.0)"
      ]
     },
     "execution_count": 4,
     "metadata": {},
     "output_type": "execute_result"
    },
    {
     "data": {
      "image/png": "[encoded data removed]",
      "text/plain": [
       "<Figure size 1008x288 with 4 Axes>"
      ]
     },
     "metadata": {
      "needs_background": "light"
     },
     "output_type": "display_data"
    }
   ],
   "source": [
    "fig, ax = plt.subplots(1, 4, figsize=(14,4))\n",
    "\n",
    "touch_screen = df['touch_screen'].values\n",
    "ram= df['ram'].values\n",
    "battery_power =df['battery_power'].values\n",
    "proccesing_power = df['pc'].values\n",
    "\n",
    "sns.distplot(touch_screen,ax=ax[0],color='black')\n",
    "ax[0].set_title('Touch Screen phones\\n (0:No touch||1:touch screen)',fontsize=12)\n",
    "ax[0].set_xlim([min(touch_screen),max(touch_screen)])\n",
    "\n",
    "sns.distplot(ram,ax=ax[1],color='r')\n",
    "ax[1].set_title('Rams of phones',fontsize=12)\n",
    "ax[1].set_xlim([min(ram),max(ram)])\n",
    "\n",
    "sns.distplot(battery_power,ax=ax[2],color='b')\n",
    "ax[2].set_title('BAttery Power',fontsize=12)\n",
    "ax[2].set_xlim([min(battery_power ),max(battery_power )])\n",
    "\n",
    "sns.distplot(proccesing_power ,ax=ax[3],color='y')\n",
    "ax[3].set_title('Proccesing Power',fontsize=12)\n",
    "ax[3].set_xlim([min(proccesing_power ),max(proccesing_power )])"
   ]
  },
  {
   "cell_type": "markdown",
   "id": "fca3073b",
   "metadata": {},
   "source": [
    "#### (2)Split the data"
   ]
  },
  {
   "cell_type": "code",
   "execution_count": 5,
   "id": "d57501f7",
   "metadata": {},
   "outputs": [],
   "source": [
    "X = df.drop(columns='price_range')\n",
    "y = df['price_range']\n",
    "X_train, X_test, y_train, y_test = train_test_split(X, y, test_size=0.20, random_state=555, stratify=y)"
   ]
  },
  {
   "cell_type": "markdown",
   "id": "4138e3cc",
   "metadata": {},
   "source": [
    "## Models deployment and Cross Validation\n",
    "we will be using three methods<br/>\n",
    "### \"i\":  Classifier methods <br/>\n",
    "### \"ii\": Ensemble method  <br/>\n",
    "### \"iii\":Deep learning, neural network method"
   ]
  },
  {
   "cell_type": "markdown",
   "id": "2d217911",
   "metadata": {},
   "source": [
    "\"------------------Starting here-------------------------\"<br/>\n",
    "#### i:Classifier methods<br/>\n",
    "'Logistic Regression','Random Forest','Support Vector Machine', 'KNeighbors','Decision Tree','Ada Boost','Bagging','Gradient Boosting', 'XGBoost'\n",
    "\n",
    "Support Vector Machine is the best model with highest test accuracy in our data set: 0.9575 "
   ]
  },
  {
   "cell_type": "code",
   "execution_count": 6,
   "id": "1ad2f0ba",
   "metadata": {},
   "outputs": [
    {
     "name": "stdout",
     "output_type": "stream",
     "text": [
      "5-fold cross validation:\n",
      "\n",
      "Train CV Accuracy: 0.759 (+/- 0.021) [Logistic Regression]\n",
      "Test Accuracy: 0.7675 \n",
      "Train CV Accuracy: 0.870 (+/- 0.011) [Random Forest]\n",
      "Test Accuracy: 0.8825 \n",
      "Train CV Accuracy: 0.949 (+/- 0.014) [Support Vector Machine]\n",
      "Test Accuracy: 0.9575 \n",
      "Train CV Accuracy: 0.918 (+/- 0.011) [KNeighbors]\n",
      "Test Accuracy: 0.9175 \n",
      "Train CV Accuracy: 0.836 (+/- 0.011) [Decision Tree]\n",
      "Test Accuracy: 0.8375 \n",
      "Train CV Accuracy: 0.704 (+/- 0.048) [Ada Boost]\n",
      "Test Accuracy: 0.6900 \n",
      "Train CV Accuracy: 0.884 (+/- 0.018) [Bagging]\n",
      "Test Accuracy: 0.8925 \n",
      "Train CV Accuracy: 0.896 (+/- 0.019) [Gradient Boosting]\n",
      "Test Accuracy: 0.9000 \n",
      "Train CV Accuracy: 0.912 (+/- 0.012) [XGBoost]\n",
      "Test Accuracy: 0.9050 \n",
      "Wall time: 52.5 s\n"
     ]
    }
   ],
   "source": [
    "%%time\n",
    "LR = LogisticRegression(solver='lbfgs', max_iter=10000, random_state=555)\n",
    "RF = RandomForestClassifier(n_estimators = 100, random_state=555)\n",
    "SVM = SVC(random_state=0, probability=True)\n",
    "KNC = KNeighborsClassifier()\n",
    "DTC = DecisionTreeClassifier()\n",
    "ABC = AdaBoostClassifier(n_estimators = 100)\n",
    "BC = BaggingClassifier(n_estimators = 100)\n",
    "GBC = GradientBoostingClassifier(n_estimators = 100)\n",
    "# clf_XGB = XGBClassifier(n_estimators = 100, objective= 'binary:logistic', seed=555, use_label_encoder=False)\n",
    "clf_XGB = XGBClassifier(n_estimators = 100, seed=555, use_label_encoder=False, eval_metric='logloss')\n",
    "\n",
    "clfs = []\n",
    "print('5-fold cross validation:\\n')\n",
    "for clf, label in zip([LR, RF, SVM, KNC, DTC, ABC, BC, GBC, clf_XGB],\n",
    "                      ['Logistic Regression',\n",
    "                       'Random Forest',\n",
    "                       'Support Vector Machine',\n",
    "                       'KNeighbors',\n",
    "                       'Decision Tree',\n",
    "                       'Ada Boost',\n",
    "                       'Bagging',\n",
    "                       'Gradient Boosting',\n",
    "                       'XGBoost']):\n",
    "    scores = sklearn.model_selection.cross_val_score(clf, X_train, y_train, cv=5, scoring=\"accuracy\")\n",
    "    print(\"Train CV Accuracy: %0.3f (+/- %0.3f) [%s]\" % (scores.mean(), scores.std(), label))\n",
    "    md = clf.fit(X_train, y_train)\n",
    "    clfs.append(md)\n",
    "    print(\"Test Accuracy: %0.4f \" % (sklearn.metrics.accuracy_score(clf.predict(X_test), y_test)))"
   ]
  },
  {
   "cell_type": "markdown",
   "id": "deda5989",
   "metadata": {},
   "source": [
    "#### ii.Ensembles <br/>\n",
    "ML-Ensemble library to combine my best model and my second best model into a single layer.<br/>\n",
    "My best model:SVM <br/>\n",
    "MY second best model:KNeighbors<br/>\n",
    "My Ensemble meta:GradientBoostingClassifier\n",
    "    \n",
    "I use GradientBoostingClassifier meta to combine group of my best models to create a strong predictive model.<br/>\n",
    "My ML-Ensemble method test accuracy is: 0.9525"
   ]
  },
  {
   "cell_type": "code",
   "execution_count": 8,
   "id": "6edde07d",
   "metadata": {},
   "outputs": [
    {
     "name": "stdout",
     "output_type": "stream",
     "text": [
      "\n",
      "Fitting 2 layers\n",
      "Processing layer-1             done | 00:00:00\n",
      "Processing layer-2             done | 00:00:00\n",
      "Fit complete                        | 00:00:00\n",
      "\n",
      "Predicting 2 layers\n",
      "Processing layer-1             done | 00:00:00\n",
      "Processing layer-2             done | 00:00:00\n",
      "Predict complete                    | 00:00:00\n",
      "Accuracy - Train :  0.954375\n",
      "\n",
      "Predicting 2 layers\n",
      "Processing layer-1             done | 00:00:00\n",
      "Processing layer-2             done | 00:00:00\n",
      "Predict complete                    | 00:00:00\n",
      "Accuracy - Test :  0.9525\n"
     ]
    }
   ],
   "source": [
    "ensemble = SuperLearner(scorer=accuracy_score, random_state=555, verbose=2)\n",
    "ensemble.add([SVM, KNC])\n",
    "# Attach the final meta estimator\n",
    "# ensemble.add_meta(LogisticRegression())\n",
    "ensemble.add_meta(GradientBoostingClassifier())\n",
    "# Fit ensemble\n",
    "ensemble.fit(X_train, y_train)\n",
    "#pred_vals = ensemble.predict(X_test)\n",
    "print (\"Accuracy - Train : \", sklearn.metrics.accuracy_score(ensemble.predict(X_train), y_train))\n",
    "print (\"Accuracy - Test : \", sklearn.metrics.accuracy_score(ensemble.predict(X_test), y_test))"
   ]
  },
  {
   "cell_type": "code",
   "execution_count": 9,
   "id": "ff0c85eb",
   "metadata": {},
   "outputs": [
    {
     "name": "stdout",
     "output_type": "stream",
     "text": [
      "Fit data:\n",
      "                                 score-m  score-s  ft-m  ft-s  pt-m  pt-s\n",
      "layer-1  kneighborsclassifier       0.92     0.00  0.01  0.00  0.08  0.00\n",
      "layer-1  svc                        0.94     0.00  0.09  0.00  0.05  0.00\n",
      "\n"
     ]
    }
   ],
   "source": [
    "print(\"Fit data:\\n%r\" % ensemble.data)"
   ]
  },
  {
   "cell_type": "markdown",
   "id": "79542eb3",
   "metadata": {},
   "source": [
    "#### iii.Building Neural network using Tensorflow\n",
    "\n",
    "(1)Preprocessing: convert data fram to numpy array for later use <br/>\n",
    "(2)setting up dense layer,construct neural network<br/>\n",
    "(3)Compile model<br/>\n",
    "(4)Run model<br/>\n",
    "(5)Cross validation<br/>  "
   ]
  },
  {
   "cell_type": "markdown",
   "id": "5c38c9c4",
   "metadata": {},
   "source": [
    "#### (1) Preprocessing\n",
    "1:convert data from to numpy array and scaler it(Normalize data) for later use <br/>\n",
    "2.conver our prediction target using oneHotEncoder since it has four classes(0,1,2,3,4) for later use. <br/>\n",
    "One hot encoded array: <br/>\n",
    "[[0. 1. 0. 0.] <br/>\n",
    " [0. 0. 1. 0.] <br/>\n",
    " [0. 0. 1. 0.] <br/>\n",
    " [0. 0. 1. 0.] <br/>\n",
    " [0. 1. 0. 0.]] <br/>"
   ]
  },
  {
   "cell_type": "code",
   "execution_count": 10,
   "id": "c1ca95e8",
   "metadata": {},
   "outputs": [
    {
     "name": "stdout",
     "output_type": "stream",
     "text": [
      "Normalized data:\n",
      "[-0.90259726 -0.9900495   0.83077942 -1.01918398 -0.76249466 -1.04396559\n",
      " -1.38064353  0.34073951  1.34924881 -1.10197128 -1.3057501  -1.40894856\n",
      " -1.14678403  0.39170341 -0.78498329  0.2831028   1.46249332 -1.78686097\n",
      " -1.00601811  0.98609664]\n"
     ]
    }
   ],
   "source": [
    "#Changing X pandas dataframe to numpy array\n",
    "X = df.iloc[:,:20].values\n",
    "\n",
    "#normalized X data\n",
    "sc = StandardScaler()\n",
    "X = sc.fit_transform(X)\n",
    "print('Normalized data:')\n",
    "print(X[0])"
   ]
  },
  {
   "cell_type": "code",
   "execution_count": 11,
   "id": "fc32994e",
   "metadata": {},
   "outputs": [
    {
     "name": "stdout",
     "output_type": "stream",
     "text": [
      "One hot encoded Y array: [[0. 1. 0. 0.]\n",
      " [0. 0. 1. 0.]\n",
      " [0. 0. 1. 0.]\n",
      " ...\n",
      " [0. 0. 0. 1.]\n",
      " [1. 0. 0. 0.]\n",
      " [0. 0. 0. 1.]]\n"
     ]
    }
   ],
   "source": [
    "#Changing Y pandas dataframe to numpy array\n",
    "y = df.iloc[:,20:21].values\n",
    "\n",
    "#prediction target \n",
    "#new arry = shape (n, number of classes)\n",
    "# n is number of samples\n",
    "from sklearn.preprocessing import OneHotEncoder\n",
    "ohe = OneHotEncoder()\n",
    "y = ohe.fit_transform(y).toarray()\n",
    "print('One hot encoded Y array:',y)"
   ]
  },
  {
   "cell_type": "markdown",
   "id": "2ab1fbc0",
   "metadata": {},
   "source": [
    "#### (2)setting up dense layer,constructing neural network<br/>\n",
    "1.Model.add is to add layer to our network , Dense means fully connected layer <br/>\n",
    "\n",
    "2.First layer: Output  16 dimensions, while input is 20 dimentions, activation function relu in our case <br/>\n",
    "\n",
    "3.Second layer:Output 12 dimensions, while automatically considerthe same from last layer, activation function relu in our case <br/>\n",
    "\n",
    "4.Last layer:  Output 4  dimensions, because we have 4 different classes in our target. the output layer takes all activation functions from previous layer, the softmax take negative/positve/etc numbers and transforms them into values between 0 and 1"
   ]
  },
  {
   "cell_type": "code",
   "execution_count": 12,
   "id": "680282d3",
   "metadata": {},
   "outputs": [],
   "source": [
    "#train test split data\n",
    "X_train,X_test,y_train,y_test = train_test_split(X,y,test_size = 0.1)\n",
    "\n",
    "# Neural network\n",
    "model = Sequential()\n",
    "model.add(Dense(16, input_dim=20, activation='relu'))\n",
    "model.add(Dense(12, activation='relu'))\n",
    "model.add(Dense(4, activation='softmax'))"
   ]
  },
  {
   "cell_type": "markdown",
   "id": "e20636e6",
   "metadata": {},
   "source": [
    "#### (3)Compile model"
   ]
  },
  {
   "cell_type": "code",
   "execution_count": null,
   "id": "18cc7704",
   "metadata": {},
   "outputs": [],
   "source": [
    "#complie model\n",
    "model.compile(loss='categorical_crossentropy', optimizer='adam', metrics=['accuracy'])"
   ]
  },
  {
   "cell_type": "markdown",
   "id": "b38fd4b9",
   "metadata": {},
   "source": [
    "#### (4)Run model"
   ]
  },
  {
   "cell_type": "code",
   "execution_count": 13,
   "id": "1026089a",
   "metadata": {},
   "outputs": [
    {
     "name": "stdout",
     "output_type": "stream",
     "text": [
      "Epoch 1/100\n",
      "29/29 [==============================] - 0s 769us/step - loss: 1.5331 - accuracy: 0.2322\n",
      "Epoch 2/100\n",
      "29/29 [==============================] - 0s 708us/step - loss: 1.4422 - accuracy: 0.2622\n",
      "Epoch 3/100\n",
      "29/29 [==============================] - 0s 769us/step - loss: 1.3915 - accuracy: 0.2956\n",
      "Epoch 4/100\n",
      "29/29 [==============================] - 0s 739us/step - loss: 1.3511 - accuracy: 0.3394\n",
      "Epoch 5/100\n",
      "29/29 [==============================] - 0s 646us/step - loss: 1.3067 - accuracy: 0.3950\n",
      "Epoch 6/100\n",
      "29/29 [==============================] - 0s 677us/step - loss: 1.2561 - accuracy: 0.4489\n",
      "Epoch 7/100\n",
      "29/29 [==============================] - 0s 677us/step - loss: 1.1985 - accuracy: 0.4911\n",
      "Epoch 8/100\n",
      "29/29 [==============================] - 0s 831us/step - loss: 1.1323 - accuracy: 0.5439\n",
      "Epoch 9/100\n",
      "29/29 [==============================] - 0s 769us/step - loss: 1.0580 - accuracy: 0.5800\n",
      "Epoch 10/100\n",
      "29/29 [==============================] - 0s 800us/step - loss: 0.9815 - accuracy: 0.6017\n",
      "Epoch 11/100\n",
      "29/29 [==============================] - 0s 739us/step - loss: 0.9029 - accuracy: 0.6483\n",
      "Epoch 12/100\n",
      "29/29 [==============================] - 0s 769us/step - loss: 0.8260 - accuracy: 0.6861\n",
      "Epoch 13/100\n",
      "29/29 [==============================] - 0s 708us/step - loss: 0.7555 - accuracy: 0.7211\n",
      "Epoch 14/100\n",
      "29/29 [==============================] - 0s 800us/step - loss: 0.6916 - accuracy: 0.7483\n",
      "Epoch 15/100\n",
      "29/29 [==============================] - 0s 708us/step - loss: 0.6332 - accuracy: 0.7733\n",
      "Epoch 16/100\n",
      "29/29 [==============================] - 0s 708us/step - loss: 0.5823 - accuracy: 0.7983\n",
      "Epoch 17/100\n",
      "29/29 [==============================] - 0s 677us/step - loss: 0.5383 - accuracy: 0.8072\n",
      "Epoch 18/100\n",
      "29/29 [==============================] - 0s 708us/step - loss: 0.4980 - accuracy: 0.8322\n",
      "Epoch 19/100\n",
      "29/29 [==============================] - 0s 677us/step - loss: 0.4619 - accuracy: 0.8472\n",
      "Epoch 20/100\n",
      "29/29 [==============================] - 0s 677us/step - loss: 0.4298 - accuracy: 0.8589\n",
      "Epoch 21/100\n",
      "29/29 [==============================] - 0s 646us/step - loss: 0.4026 - accuracy: 0.8728\n",
      "Epoch 22/100\n",
      "29/29 [==============================] - 0s 769us/step - loss: 0.3766 - accuracy: 0.8822\n",
      "Epoch 23/100\n",
      "29/29 [==============================] - 0s 708us/step - loss: 0.3526 - accuracy: 0.8972\n",
      "Epoch 24/100\n",
      "29/29 [==============================] - 0s 739us/step - loss: 0.3317 - accuracy: 0.9022\n",
      "Epoch 25/100\n",
      "29/29 [==============================] - 0s 646us/step - loss: 0.3131 - accuracy: 0.9072\n",
      "Epoch 26/100\n",
      "29/29 [==============================] - 0s 708us/step - loss: 0.2948 - accuracy: 0.9100\n",
      "Epoch 27/100\n",
      "29/29 [==============================] - 0s 800us/step - loss: 0.2788 - accuracy: 0.9206\n",
      "Epoch 28/100\n",
      "29/29 [==============================] - 0s 708us/step - loss: 0.2641 - accuracy: 0.9228\n",
      "Epoch 29/100\n",
      "29/29 [==============================] - 0s 831us/step - loss: 0.2518 - accuracy: 0.9283\n",
      "Epoch 30/100\n",
      "29/29 [==============================] - 0s 923us/step - loss: 0.2397 - accuracy: 0.9289\n",
      "Epoch 31/100\n",
      "29/29 [==============================] - 0s 923us/step - loss: 0.2287 - accuracy: 0.9333\n",
      "Epoch 32/100\n",
      "29/29 [==============================] - 0s 800us/step - loss: 0.2180 - accuracy: 0.9389\n",
      "Epoch 33/100\n",
      "29/29 [==============================] - 0s 1ms/step - loss: 0.2085 - accuracy: 0.9361\n",
      "Epoch 34/100\n",
      "29/29 [==============================] - 0s 769us/step - loss: 0.2006 - accuracy: 0.9394\n",
      "Epoch 35/100\n",
      "29/29 [==============================] - 0s 708us/step - loss: 0.1944 - accuracy: 0.9428\n",
      "Epoch 36/100\n",
      "29/29 [==============================] - 0s 616us/step - loss: 0.1857 - accuracy: 0.9478\n",
      "Epoch 37/100\n",
      "29/29 [==============================] - 0s 759us/step - loss: 0.1791 - accuracy: 0.9472\n",
      "Epoch 38/100\n",
      "29/29 [==============================] - 0s 892us/step - loss: 0.1738 - accuracy: 0.9489\n",
      "Epoch 39/100\n",
      "29/29 [==============================] - 0s 862us/step - loss: 0.1670 - accuracy: 0.9506\n",
      "Epoch 40/100\n",
      "29/29 [==============================] - 0s 708us/step - loss: 0.1616 - accuracy: 0.9544\n",
      "Epoch 41/100\n",
      "29/29 [==============================] - 0s 677us/step - loss: 0.1549 - accuracy: 0.9561\n",
      "Epoch 42/100\n",
      "29/29 [==============================] - 0s 739us/step - loss: 0.1506 - accuracy: 0.9600\n",
      "Epoch 43/100\n",
      "29/29 [==============================] - 0s 739us/step - loss: 0.1471 - accuracy: 0.9567\n",
      "Epoch 44/100\n",
      "29/29 [==============================] - 0s 677us/step - loss: 0.1435 - accuracy: 0.9589\n",
      "Epoch 45/100\n",
      "29/29 [==============================] - 0s 616us/step - loss: 0.1381 - accuracy: 0.9633\n",
      "Epoch 46/100\n",
      "29/29 [==============================] - 0s 769us/step - loss: 0.1342 - accuracy: 0.9622\n",
      "Epoch 47/100\n",
      "29/29 [==============================] - 0s 739us/step - loss: 0.1308 - accuracy: 0.9644\n",
      "Epoch 48/100\n",
      "29/29 [==============================] - 0s 769us/step - loss: 0.1274 - accuracy: 0.9611\n",
      "Epoch 49/100\n",
      "29/29 [==============================] - 0s 800us/step - loss: 0.1247 - accuracy: 0.9656\n",
      "Epoch 50/100\n",
      "29/29 [==============================] - 0s 708us/step - loss: 0.1206 - accuracy: 0.9650\n",
      "Epoch 51/100\n",
      "29/29 [==============================] - 0s 677us/step - loss: 0.1173 - accuracy: 0.9656\n",
      "Epoch 52/100\n",
      "29/29 [==============================] - 0s 739us/step - loss: 0.1161 - accuracy: 0.9639\n",
      "Epoch 53/100\n",
      "29/29 [==============================] - 0s 677us/step - loss: 0.1127 - accuracy: 0.9706\n",
      "Epoch 54/100\n",
      "29/29 [==============================] - 0s 646us/step - loss: 0.1093 - accuracy: 0.9717\n",
      "Epoch 55/100\n",
      "29/29 [==============================] - 0s 831us/step - loss: 0.1082 - accuracy: 0.9706\n",
      "Epoch 56/100\n",
      "29/29 [==============================] - 0s 739us/step - loss: 0.1057 - accuracy: 0.9683\n",
      "Epoch 57/100\n",
      "29/29 [==============================] - 0s 707us/step - loss: 0.1031 - accuracy: 0.9733\n",
      "Epoch 58/100\n",
      "29/29 [==============================] - 0s 800us/step - loss: 0.1014 - accuracy: 0.9722\n",
      "Epoch 59/100\n",
      "29/29 [==============================] - 0s 739us/step - loss: 0.0983 - accuracy: 0.9728\n",
      "Epoch 60/100\n",
      "29/29 [==============================] - 0s 800us/step - loss: 0.0962 - accuracy: 0.9772\n",
      "Epoch 61/100\n",
      "29/29 [==============================] - 0s 708us/step - loss: 0.0941 - accuracy: 0.9783\n",
      "Epoch 62/100\n",
      "29/29 [==============================] - 0s 708us/step - loss: 0.0923 - accuracy: 0.9783\n",
      "Epoch 63/100\n",
      "29/29 [==============================] - 0s 923us/step - loss: 0.0905 - accuracy: 0.9778\n",
      "Epoch 64/100\n",
      "29/29 [==============================] - 0s 677us/step - loss: 0.0885 - accuracy: 0.9778\n",
      "Epoch 65/100\n",
      "29/29 [==============================] - 0s 739us/step - loss: 0.0879 - accuracy: 0.9794\n",
      "Epoch 66/100\n",
      "29/29 [==============================] - 0s 677us/step - loss: 0.0856 - accuracy: 0.9806\n",
      "Epoch 67/100\n",
      "29/29 [==============================] - 0s 1ms/step - loss: 0.0838 - accuracy: 0.9806\n",
      "Epoch 68/100\n",
      "29/29 [==============================] - 0s 800us/step - loss: 0.0822 - accuracy: 0.9783\n",
      "Epoch 69/100\n",
      "29/29 [==============================] - 0s 708us/step - loss: 0.0802 - accuracy: 0.9800\n",
      "Epoch 70/100\n",
      "29/29 [==============================] - 0s 708us/step - loss: 0.0797 - accuracy: 0.9806\n",
      "Epoch 71/100\n",
      "29/29 [==============================] - 0s 893us/step - loss: 0.0776 - accuracy: 0.9817\n",
      "Epoch 72/100\n",
      "29/29 [==============================] - 0s 770us/step - loss: 0.0763 - accuracy: 0.9817\n",
      "Epoch 73/100\n",
      "29/29 [==============================] - 0s 739us/step - loss: 0.0748 - accuracy: 0.9833\n",
      "Epoch 74/100\n",
      "29/29 [==============================] - 0s 769us/step - loss: 0.0732 - accuracy: 0.9833\n",
      "Epoch 75/100\n",
      "29/29 [==============================] - 0s 893us/step - loss: 0.0714 - accuracy: 0.9867\n",
      "Epoch 76/100\n",
      "29/29 [==============================] - 0s 708us/step - loss: 0.0706 - accuracy: 0.9839\n",
      "Epoch 77/100\n",
      "29/29 [==============================] - 0s 800us/step - loss: 0.0692 - accuracy: 0.9856\n",
      "Epoch 78/100\n",
      "29/29 [==============================] - 0s 739us/step - loss: 0.0686 - accuracy: 0.9839\n",
      "Epoch 79/100\n",
      "29/29 [==============================] - 0s 800us/step - loss: 0.0678 - accuracy: 0.9861\n",
      "Epoch 80/100\n",
      "29/29 [==============================] - 0s 769us/step - loss: 0.0670 - accuracy: 0.9867\n",
      "Epoch 81/100\n",
      "29/29 [==============================] - 0s 708us/step - loss: 0.0658 - accuracy: 0.9839\n",
      "Epoch 82/100\n",
      "29/29 [==============================] - 0s 708us/step - loss: 0.0647 - accuracy: 0.9872\n",
      "Epoch 83/100\n",
      "29/29 [==============================] - 0s 739us/step - loss: 0.0641 - accuracy: 0.9850\n",
      "Epoch 84/100\n",
      "29/29 [==============================] - 0s 831us/step - loss: 0.0625 - accuracy: 0.9856\n",
      "Epoch 85/100\n",
      "29/29 [==============================] - 0s 677us/step - loss: 0.0598 - accuracy: 0.9889\n",
      "Epoch 86/100\n",
      "29/29 [==============================] - 0s 616us/step - loss: 0.0595 - accuracy: 0.9883\n",
      "Epoch 87/100\n",
      "29/29 [==============================] - 0s 708us/step - loss: 0.0585 - accuracy: 0.9894\n",
      "Epoch 88/100\n",
      "29/29 [==============================] - 0s 677us/step - loss: 0.0573 - accuracy: 0.9889\n",
      "Epoch 89/100\n",
      "29/29 [==============================] - 0s 646us/step - loss: 0.0562 - accuracy: 0.9928\n",
      "Epoch 90/100\n",
      "29/29 [==============================] - 0s 739us/step - loss: 0.0550 - accuracy: 0.9900\n",
      "Epoch 91/100\n",
      "29/29 [==============================] - 0s 923us/step - loss: 0.0547 - accuracy: 0.9894\n",
      "Epoch 92/100\n",
      "29/29 [==============================] - 0s 862us/step - loss: 0.0544 - accuracy: 0.9900\n",
      "Epoch 93/100\n",
      "29/29 [==============================] - 0s 831us/step - loss: 0.0527 - accuracy: 0.9928\n",
      "Epoch 94/100\n",
      "29/29 [==============================] - 0s 739us/step - loss: 0.0527 - accuracy: 0.9917\n",
      "Epoch 95/100\n",
      "29/29 [==============================] - 0s 739us/step - loss: 0.0506 - accuracy: 0.9922\n",
      "Epoch 96/100\n",
      "29/29 [==============================] - 0s 708us/step - loss: 0.0505 - accuracy: 0.9933\n",
      "Epoch 97/100\n",
      "29/29 [==============================] - 0s 708us/step - loss: 0.0503 - accuracy: 0.9911\n",
      "Epoch 98/100\n",
      "29/29 [==============================] - 0s 634us/step - loss: 0.0489 - accuracy: 0.9917\n",
      "Epoch 99/100\n",
      "29/29 [==============================] - 0s 708us/step - loss: 0.0480 - accuracy: 0.9939\n",
      "Epoch 100/100\n",
      "29/29 [==============================] - 0s 708us/step - loss: 0.0466 - accuracy: 0.9944\n"
     ]
    }
   ],
   "source": [
    "history = model.fit(X_train, y_train, epochs=100, batch_size=64)"
   ]
  },
  {
   "cell_type": "markdown",
   "id": "19d87722",
   "metadata": {},
   "source": [
    "#### (5)Cross validation"
   ]
  },
  {
   "cell_type": "code",
   "execution_count": 18,
   "id": "1a5bf5e9",
   "metadata": {},
   "outputs": [],
   "source": [
    "#cross validation our model on test data\n",
    "y_pred = model.predict(X_test)\n",
    "\n",
    "#Converting predictions to label\n",
    "pred = list()\n",
    "for i in range(len(y_pred)):\n",
    "    pred.append(np.argmax(y_pred[i]))\n",
    "#Converting one hot encoded test label to label\n",
    "test = list()\n",
    "for i in range(len(y_test)):\n",
    "    test.append(np.argmax(y_test[i]))"
   ]
  },
  {
   "cell_type": "code",
   "execution_count": 19,
   "id": "5543e4fc",
   "metadata": {},
   "outputs": [
    {
     "name": "stdout",
     "output_type": "stream",
     "text": [
      "Accuracy is: 91.0\n"
     ]
    }
   ],
   "source": [
    "from sklearn.metrics import accuracy_score\n",
    "a = accuracy_score(pred,test)\n",
    "print('Accuracy is:', a*100)"
   ]
  },
  {
   "cell_type": "code",
   "execution_count": 20,
   "id": "d3119837",
   "metadata": {},
   "outputs": [],
   "source": [
    "#Dependencies\n",
    "import keras\n",
    "from keras.models import Sequential\n",
    "from keras.layers import Dense\n",
    "#Re initialized to delete trained weights\n",
    "# Neural network\n",
    "model = Sequential()\n",
    "model.add(Dense(16, input_dim=20, activation='relu'))\n",
    "model.add(Dense(12, activation='relu'))\n",
    "model.add(Dense(4, activation='softmax'))\n",
    "\n",
    "model.compile(loss='categorical_crossentropy', optimizer='adam', metrics=['accuracy'])"
   ]
  },
  {
   "cell_type": "code",
   "execution_count": 15,
   "id": "138c19b3",
   "metadata": {},
   "outputs": [
    {
     "name": "stdout",
     "output_type": "stream",
     "text": [
      "Epoch 1/100\n",
      "29/29 [==============================] - 0s 6ms/step - loss: 1.4563 - accuracy: 0.2556 - val_loss: 1.4313 - val_accuracy: 0.2350\n",
      "Epoch 2/100\n",
      "29/29 [==============================] - 0s 2ms/step - loss: 1.3854 - accuracy: 0.3139 - val_loss: 1.3813 - val_accuracy: 0.2800\n",
      "Epoch 3/100\n",
      "29/29 [==============================] - 0s 1ms/step - loss: 1.3366 - accuracy: 0.3833 - val_loss: 1.3357 - val_accuracy: 0.3250\n",
      "Epoch 4/100\n",
      "29/29 [==============================] - 0s 1ms/step - loss: 1.2883 - accuracy: 0.4317 - val_loss: 1.2878 - val_accuracy: 0.3950\n",
      "Epoch 5/100\n",
      "29/29 [==============================] - 0s 2ms/step - loss: 1.2320 - accuracy: 0.4767 - val_loss: 1.2292 - val_accuracy: 0.4300\n",
      "Epoch 6/100\n",
      "29/29 [==============================] - 0s 1ms/step - loss: 1.1635 - accuracy: 0.5211 - val_loss: 1.1594 - val_accuracy: 0.4850\n",
      "Epoch 7/100\n",
      "29/29 [==============================] - 0s 1ms/step - loss: 1.0839 - accuracy: 0.5567 - val_loss: 1.0818 - val_accuracy: 0.5250\n",
      "Epoch 8/100\n",
      "29/29 [==============================] - 0s 1ms/step - loss: 0.9961 - accuracy: 0.6028 - val_loss: 0.9978 - val_accuracy: 0.5700\n",
      "Epoch 9/100\n",
      "29/29 [==============================] - 0s 1ms/step - loss: 0.9056 - accuracy: 0.6378 - val_loss: 0.9134 - val_accuracy: 0.6050\n",
      "Epoch 10/100\n",
      "29/29 [==============================] - 0s 2ms/step - loss: 0.8181 - accuracy: 0.6794 - val_loss: 0.8347 - val_accuracy: 0.6350\n",
      "Epoch 11/100\n",
      "29/29 [==============================] - 0s 1ms/step - loss: 0.7379 - accuracy: 0.7161 - val_loss: 0.7601 - val_accuracy: 0.6700\n",
      "Epoch 12/100\n",
      "29/29 [==============================] - 0s 2ms/step - loss: 0.6676 - accuracy: 0.7617 - val_loss: 0.6970 - val_accuracy: 0.7000\n",
      "Epoch 13/100\n",
      "29/29 [==============================] - 0s 1ms/step - loss: 0.6067 - accuracy: 0.7989 - val_loss: 0.6413 - val_accuracy: 0.7350\n",
      "Epoch 14/100\n",
      "29/29 [==============================] - 0s 2ms/step - loss: 0.5536 - accuracy: 0.8244 - val_loss: 0.5952 - val_accuracy: 0.7450\n",
      "Epoch 15/100\n",
      "29/29 [==============================] - 0s 1ms/step - loss: 0.5076 - accuracy: 0.8483 - val_loss: 0.5553 - val_accuracy: 0.7800\n",
      "Epoch 16/100\n",
      "29/29 [==============================] - 0s 2ms/step - loss: 0.4674 - accuracy: 0.8567 - val_loss: 0.5204 - val_accuracy: 0.7950\n",
      "Epoch 17/100\n",
      "29/29 [==============================] - 0s 1ms/step - loss: 0.4328 - accuracy: 0.8811 - val_loss: 0.4883 - val_accuracy: 0.7950\n",
      "Epoch 18/100\n",
      "29/29 [==============================] - 0s 1ms/step - loss: 0.4019 - accuracy: 0.8928 - val_loss: 0.4645 - val_accuracy: 0.8150\n",
      "Epoch 19/100\n",
      "29/29 [==============================] - 0s 1ms/step - loss: 0.3742 - accuracy: 0.9061 - val_loss: 0.4431 - val_accuracy: 0.8100\n",
      "Epoch 20/100\n",
      "29/29 [==============================] - 0s 2ms/step - loss: 0.3499 - accuracy: 0.9078 - val_loss: 0.4166 - val_accuracy: 0.8650\n",
      "Epoch 21/100\n",
      "29/29 [==============================] - 0s 2ms/step - loss: 0.3275 - accuracy: 0.9189 - val_loss: 0.4018 - val_accuracy: 0.8600\n",
      "Epoch 22/100\n",
      "29/29 [==============================] - 0s 1ms/step - loss: 0.3082 - accuracy: 0.9178 - val_loss: 0.3859 - val_accuracy: 0.8850\n",
      "Epoch 23/100\n",
      "29/29 [==============================] - 0s 2ms/step - loss: 0.2898 - accuracy: 0.9294 - val_loss: 0.3702 - val_accuracy: 0.8800\n",
      "Epoch 24/100\n",
      "29/29 [==============================] - 0s 2ms/step - loss: 0.2747 - accuracy: 0.9294 - val_loss: 0.3576 - val_accuracy: 0.8800\n",
      "Epoch 25/100\n",
      "29/29 [==============================] - 0s 1ms/step - loss: 0.2604 - accuracy: 0.9367 - val_loss: 0.3458 - val_accuracy: 0.8850\n",
      "Epoch 26/100\n",
      "29/29 [==============================] - 0s 1ms/step - loss: 0.2472 - accuracy: 0.9367 - val_loss: 0.3353 - val_accuracy: 0.8900\n",
      "Epoch 27/100\n",
      "29/29 [==============================] - 0s 2ms/step - loss: 0.2352 - accuracy: 0.9406 - val_loss: 0.3243 - val_accuracy: 0.8850\n",
      "Epoch 28/100\n",
      "29/29 [==============================] - 0s 1ms/step - loss: 0.2245 - accuracy: 0.9417 - val_loss: 0.3172 - val_accuracy: 0.8900\n",
      "Epoch 29/100\n",
      "29/29 [==============================] - 0s 2ms/step - loss: 0.2139 - accuracy: 0.9444 - val_loss: 0.3105 - val_accuracy: 0.8800\n",
      "Epoch 30/100\n",
      "29/29 [==============================] - 0s 1ms/step - loss: 0.2054 - accuracy: 0.9456 - val_loss: 0.3030 - val_accuracy: 0.9050\n",
      "Epoch 31/100\n",
      "29/29 [==============================] - 0s 2ms/step - loss: 0.1958 - accuracy: 0.9472 - val_loss: 0.2914 - val_accuracy: 0.9050\n",
      "Epoch 32/100\n",
      "29/29 [==============================] - 0s 2ms/step - loss: 0.1875 - accuracy: 0.9511 - val_loss: 0.2880 - val_accuracy: 0.8950\n",
      "Epoch 33/100\n",
      "29/29 [==============================] - 0s 1ms/step - loss: 0.1798 - accuracy: 0.9506 - val_loss: 0.2819 - val_accuracy: 0.8950\n",
      "Epoch 34/100\n",
      "29/29 [==============================] - 0s 2ms/step - loss: 0.1732 - accuracy: 0.9544 - val_loss: 0.2823 - val_accuracy: 0.9000\n",
      "Epoch 35/100\n",
      "29/29 [==============================] - 0s 1ms/step - loss: 0.1665 - accuracy: 0.9517 - val_loss: 0.2768 - val_accuracy: 0.9050\n",
      "Epoch 36/100\n",
      "29/29 [==============================] - 0s 2ms/step - loss: 0.1610 - accuracy: 0.9622 - val_loss: 0.2750 - val_accuracy: 0.9050\n",
      "Epoch 37/100\n",
      "29/29 [==============================] - 0s 1ms/step - loss: 0.1558 - accuracy: 0.9617 - val_loss: 0.2721 - val_accuracy: 0.9050\n",
      "Epoch 38/100\n",
      "29/29 [==============================] - 0s 1ms/step - loss: 0.1498 - accuracy: 0.9622 - val_loss: 0.2646 - val_accuracy: 0.9050\n",
      "Epoch 39/100\n",
      "29/29 [==============================] - 0s 2ms/step - loss: 0.1446 - accuracy: 0.9594 - val_loss: 0.2635 - val_accuracy: 0.9050\n",
      "Epoch 40/100\n",
      "29/29 [==============================] - 0s 1ms/step - loss: 0.1411 - accuracy: 0.9622 - val_loss: 0.2588 - val_accuracy: 0.8950\n",
      "Epoch 41/100\n",
      "29/29 [==============================] - 0s 2ms/step - loss: 0.1365 - accuracy: 0.9667 - val_loss: 0.2601 - val_accuracy: 0.9100\n",
      "Epoch 42/100\n",
      "29/29 [==============================] - 0s 2ms/step - loss: 0.1330 - accuracy: 0.9611 - val_loss: 0.2585 - val_accuracy: 0.9050\n",
      "Epoch 43/100\n",
      "29/29 [==============================] - 0s 1ms/step - loss: 0.1305 - accuracy: 0.9633 - val_loss: 0.2547 - val_accuracy: 0.8950\n",
      "Epoch 44/100\n",
      "29/29 [==============================] - 0s 1ms/step - loss: 0.1264 - accuracy: 0.9667 - val_loss: 0.2522 - val_accuracy: 0.9150\n",
      "Epoch 45/100\n",
      "29/29 [==============================] - 0s 2ms/step - loss: 0.1233 - accuracy: 0.9694 - val_loss: 0.2503 - val_accuracy: 0.9200\n",
      "Epoch 46/100\n",
      "29/29 [==============================] - 0s 1ms/step - loss: 0.1189 - accuracy: 0.9694 - val_loss: 0.2473 - val_accuracy: 0.9100\n",
      "Epoch 47/100\n",
      "29/29 [==============================] - 0s 2ms/step - loss: 0.1165 - accuracy: 0.9700 - val_loss: 0.2523 - val_accuracy: 0.9050\n",
      "Epoch 48/100\n",
      "29/29 [==============================] - 0s 1ms/step - loss: 0.1144 - accuracy: 0.9694 - val_loss: 0.2466 - val_accuracy: 0.9100\n",
      "Epoch 49/100\n",
      "29/29 [==============================] - 0s 2ms/step - loss: 0.1107 - accuracy: 0.9722 - val_loss: 0.2447 - val_accuracy: 0.9150\n",
      "Epoch 50/100\n",
      "29/29 [==============================] - 0s 1ms/step - loss: 0.1072 - accuracy: 0.9750 - val_loss: 0.2451 - val_accuracy: 0.9100\n",
      "Epoch 51/100\n",
      "29/29 [==============================] - 0s 2ms/step - loss: 0.1048 - accuracy: 0.9756 - val_loss: 0.2442 - val_accuracy: 0.9050\n",
      "Epoch 52/100\n",
      "29/29 [==============================] - 0s 1ms/step - loss: 0.1025 - accuracy: 0.9756 - val_loss: 0.2393 - val_accuracy: 0.9000\n",
      "Epoch 53/100\n",
      "29/29 [==============================] - 0s 1ms/step - loss: 0.1008 - accuracy: 0.9756 - val_loss: 0.2371 - val_accuracy: 0.9000\n",
      "Epoch 54/100\n",
      "29/29 [==============================] - 0s 2ms/step - loss: 0.0973 - accuracy: 0.9789 - val_loss: 0.2373 - val_accuracy: 0.9000\n",
      "Epoch 55/100\n",
      "29/29 [==============================] - 0s 2ms/step - loss: 0.0947 - accuracy: 0.9783 - val_loss: 0.2370 - val_accuracy: 0.9100\n",
      "Epoch 56/100\n",
      "29/29 [==============================] - 0s 2ms/step - loss: 0.0932 - accuracy: 0.9778 - val_loss: 0.2378 - val_accuracy: 0.9050\n",
      "Epoch 57/100\n",
      "29/29 [==============================] - 0s 2ms/step - loss: 0.0902 - accuracy: 0.9794 - val_loss: 0.2378 - val_accuracy: 0.9050\n",
      "Epoch 58/100\n",
      "29/29 [==============================] - 0s 1ms/step - loss: 0.0886 - accuracy: 0.9794 - val_loss: 0.2345 - val_accuracy: 0.9050\n",
      "Epoch 59/100\n",
      "29/29 [==============================] - 0s 1ms/step - loss: 0.0876 - accuracy: 0.9767 - val_loss: 0.2340 - val_accuracy: 0.9100\n",
      "Epoch 60/100\n",
      "29/29 [==============================] - 0s 2ms/step - loss: 0.0851 - accuracy: 0.9783 - val_loss: 0.2343 - val_accuracy: 0.8950\n",
      "Epoch 61/100\n",
      "29/29 [==============================] - 0s 1ms/step - loss: 0.0833 - accuracy: 0.9811 - val_loss: 0.2362 - val_accuracy: 0.8950\n",
      "Epoch 62/100\n",
      "29/29 [==============================] - 0s 2ms/step - loss: 0.0828 - accuracy: 0.9778 - val_loss: 0.2340 - val_accuracy: 0.9000\n",
      "Epoch 63/100\n",
      "29/29 [==============================] - 0s 1ms/step - loss: 0.0798 - accuracy: 0.9833 - val_loss: 0.2351 - val_accuracy: 0.9000\n",
      "Epoch 64/100\n",
      "29/29 [==============================] - 0s 2ms/step - loss: 0.0786 - accuracy: 0.9817 - val_loss: 0.2374 - val_accuracy: 0.9000\n",
      "Epoch 65/100\n",
      "29/29 [==============================] - 0s 1ms/step - loss: 0.0771 - accuracy: 0.9833 - val_loss: 0.2389 - val_accuracy: 0.8950\n",
      "Epoch 66/100\n",
      "29/29 [==============================] - 0s 1ms/step - loss: 0.0765 - accuracy: 0.9839 - val_loss: 0.2373 - val_accuracy: 0.9050\n",
      "Epoch 67/100\n",
      "29/29 [==============================] - 0s 2ms/step - loss: 0.0741 - accuracy: 0.9839 - val_loss: 0.2300 - val_accuracy: 0.9050\n",
      "Epoch 68/100\n",
      "29/29 [==============================] - 0s 1ms/step - loss: 0.0738 - accuracy: 0.9828 - val_loss: 0.2307 - val_accuracy: 0.8950\n",
      "Epoch 69/100\n",
      "29/29 [==============================] - 0s 2ms/step - loss: 0.0720 - accuracy: 0.9844 - val_loss: 0.2372 - val_accuracy: 0.9050\n",
      "Epoch 70/100\n",
      "29/29 [==============================] - 0s 1ms/step - loss: 0.0715 - accuracy: 0.9856 - val_loss: 0.2391 - val_accuracy: 0.9000\n",
      "Epoch 71/100\n",
      "29/29 [==============================] - 0s 2ms/step - loss: 0.0691 - accuracy: 0.9822 - val_loss: 0.2369 - val_accuracy: 0.9000\n",
      "Epoch 72/100\n",
      "29/29 [==============================] - 0s 2ms/step - loss: 0.0669 - accuracy: 0.9878 - val_loss: 0.2309 - val_accuracy: 0.9200\n",
      "Epoch 73/100\n",
      "29/29 [==============================] - 0s 1ms/step - loss: 0.0665 - accuracy: 0.9839 - val_loss: 0.2335 - val_accuracy: 0.9100\n",
      "Epoch 74/100\n",
      "29/29 [==============================] - 0s 1ms/step - loss: 0.0647 - accuracy: 0.9850 - val_loss: 0.2323 - val_accuracy: 0.9000\n",
      "Epoch 75/100\n",
      "29/29 [==============================] - 0s 1ms/step - loss: 0.0639 - accuracy: 0.9872 - val_loss: 0.2328 - val_accuracy: 0.9000\n",
      "Epoch 76/100\n",
      "29/29 [==============================] - 0s 2ms/step - loss: 0.0621 - accuracy: 0.9883 - val_loss: 0.2341 - val_accuracy: 0.9000\n",
      "Epoch 77/100\n",
      "29/29 [==============================] - 0s 1ms/step - loss: 0.0627 - accuracy: 0.9889 - val_loss: 0.2365 - val_accuracy: 0.9050\n",
      "Epoch 78/100\n",
      "29/29 [==============================] - 0s 1ms/step - loss: 0.0605 - accuracy: 0.9883 - val_loss: 0.2314 - val_accuracy: 0.8950\n",
      "Epoch 79/100\n",
      "29/29 [==============================] - 0s 1ms/step - loss: 0.0596 - accuracy: 0.9883 - val_loss: 0.2311 - val_accuracy: 0.9100\n",
      "Epoch 80/100\n",
      "29/29 [==============================] - 0s 1ms/step - loss: 0.0594 - accuracy: 0.9872 - val_loss: 0.2410 - val_accuracy: 0.9000\n",
      "Epoch 81/100\n",
      "29/29 [==============================] - 0s 2ms/step - loss: 0.0580 - accuracy: 0.9906 - val_loss: 0.2354 - val_accuracy: 0.9000\n",
      "Epoch 82/100\n",
      "29/29 [==============================] - 0s 2ms/step - loss: 0.0567 - accuracy: 0.9906 - val_loss: 0.2329 - val_accuracy: 0.8950\n",
      "Epoch 83/100\n",
      "29/29 [==============================] - 0s 1ms/step - loss: 0.0550 - accuracy: 0.9900 - val_loss: 0.2301 - val_accuracy: 0.9100\n",
      "Epoch 84/100\n",
      "29/29 [==============================] - 0s 1ms/step - loss: 0.0550 - accuracy: 0.9906 - val_loss: 0.2373 - val_accuracy: 0.8950\n",
      "Epoch 85/100\n",
      "29/29 [==============================] - 0s 1ms/step - loss: 0.0538 - accuracy: 0.9883 - val_loss: 0.2332 - val_accuracy: 0.8950\n",
      "Epoch 86/100\n",
      "29/29 [==============================] - 0s 1ms/step - loss: 0.0540 - accuracy: 0.9906 - val_loss: 0.2309 - val_accuracy: 0.9050\n",
      "Epoch 87/100\n",
      "29/29 [==============================] - 0s 2ms/step - loss: 0.0524 - accuracy: 0.9894 - val_loss: 0.2328 - val_accuracy: 0.9050\n",
      "Epoch 88/100\n",
      "29/29 [==============================] - 0s 1ms/step - loss: 0.0512 - accuracy: 0.9911 - val_loss: 0.2375 - val_accuracy: 0.9000\n",
      "Epoch 89/100\n",
      "29/29 [==============================] - 0s 1ms/step - loss: 0.0508 - accuracy: 0.9922 - val_loss: 0.2317 - val_accuracy: 0.9100\n",
      "Epoch 90/100\n",
      "29/29 [==============================] - 0s 1ms/step - loss: 0.0499 - accuracy: 0.9917 - val_loss: 0.2365 - val_accuracy: 0.9050\n",
      "Epoch 91/100\n",
      "29/29 [==============================] - 0s 1ms/step - loss: 0.0486 - accuracy: 0.9939 - val_loss: 0.2330 - val_accuracy: 0.9100\n",
      "Epoch 92/100\n",
      "29/29 [==============================] - 0s 2ms/step - loss: 0.0482 - accuracy: 0.9917 - val_loss: 0.2343 - val_accuracy: 0.8950\n",
      "Epoch 93/100\n",
      "29/29 [==============================] - 0s 1ms/step - loss: 0.0479 - accuracy: 0.9933 - val_loss: 0.2322 - val_accuracy: 0.9000\n",
      "Epoch 94/100\n",
      "29/29 [==============================] - 0s 2ms/step - loss: 0.0468 - accuracy: 0.9933 - val_loss: 0.2317 - val_accuracy: 0.9050\n",
      "Epoch 95/100\n",
      "29/29 [==============================] - 0s 1ms/step - loss: 0.0466 - accuracy: 0.9933 - val_loss: 0.2318 - val_accuracy: 0.9150\n",
      "Epoch 96/100\n",
      "29/29 [==============================] - 0s 2ms/step - loss: 0.0460 - accuracy: 0.9917 - val_loss: 0.2328 - val_accuracy: 0.9050\n",
      "Epoch 97/100\n",
      "29/29 [==============================] - 0s 1ms/step - loss: 0.0454 - accuracy: 0.9933 - val_loss: 0.2326 - val_accuracy: 0.9100\n",
      "Epoch 98/100\n",
      "29/29 [==============================] - 0s 1ms/step - loss: 0.0441 - accuracy: 0.9944 - val_loss: 0.2331 - val_accuracy: 0.9000\n",
      "Epoch 99/100\n",
      "29/29 [==============================] - 0s 1ms/step - loss: 0.0437 - accuracy: 0.9939 - val_loss: 0.2350 - val_accuracy: 0.8950\n",
      "Epoch 100/100\n",
      "29/29 [==============================] - 0s 1ms/step - loss: 0.0421 - accuracy: 0.9944 - val_loss: 0.2334 - val_accuracy: 0.9100\n"
     ]
    }
   ],
   "source": [
    "history = model.fit(X_train, y_train,validation_data = (X_test,y_test), epochs=100, batch_size=64)"
   ]
  },
  {
   "cell_type": "markdown",
   "id": "0b00abf3",
   "metadata": {},
   "source": [
    "#### Visulaize"
   ]
  },
  {
   "cell_type": "code",
   "execution_count": 21,
   "id": "1c766891",
   "metadata": {},
   "outputs": [
    {
     "data": {
      "image/png": "[encoded data removed]",
      "text/plain": [
       "<Figure size 432x288 with 1 Axes>"
      ]
     },
     "metadata": {
      "needs_background": "light"
     },
     "output_type": "display_data"
    }
   ],
   "source": [
    "# epoch and accruacy\n",
    "#plot to compare train accruacy and test accuracy\n",
    "import matplotlib.pyplot as plt\n",
    "plt.plot(history.history['accuracy'])\n",
    "plt.plot(history.history['val_accuracy'])\n",
    "plt.title('Model accuracy')\n",
    "plt.ylabel('Accuracy')\n",
    "plt.xlabel('Epoch')\n",
    "plt.legend(['Train', 'Test'], loc='upper left')\n",
    "plt.show()"
   ]
  },
  {
   "cell_type": "code",
   "execution_count": 22,
   "id": "45118de3",
   "metadata": {},
   "outputs": [
    {
     "data": {
      "image/png": "[encoded data removed]",
      "text/plain": [
       "<Figure size 432x288 with 1 Axes>"
      ]
     },
     "metadata": {
      "needs_background": "light"
     },
     "output_type": "display_data"
    }
   ],
   "source": [
    "# epoch and loss\n",
    "#plot to compare train lost and test lost\n",
    "plt.plot(history.history['loss']) \n",
    "plt.plot(history.history['val_loss']) \n",
    "plt.title('Model loss') \n",
    "plt.ylabel('Loss') \n",
    "plt.xlabel('Epoch') \n",
    "plt.legend(['Train', 'Test'], loc='upper left') \n",
    "plt.show()"
   ]
  },
  {
   "cell_type": "markdown",
   "id": "c5d5e170",
   "metadata": {},
   "source": [
    "# Conclusion\n",
    "\n",
    "The goal of this machine learning algorithm research is to find the best model/method to predict this dataset. As listed below of our result of examined methods, the best model for our dataset support vector machine classifier with the highest test \n",
    "#### \"i\":  Classifier methods: The best model we find is\"support vector machine\", Test Accuracy: 0.9575  <br/>\n",
    "#### \"ii\": Ensemble method : We are using the best 2 models from classifier methods we found,SVM+KNN, Test Accuracy: 0.9525<br/>\n",
    "#### \"iii\":Deep Learning, Neural Network method: Test Accuracy:0.9100"
   ]
  }
 ],
 "metadata": {
  "kernelspec": {
   "display_name": "Python 3",
   "language": "python",
   "name": "python3"
  },
  "language_info": {
   "codemirror_mode": {
    "name": "ipython",
    "version": 3
   },
   "file_extension": ".py",
   "mimetype": "text/x-python",
   "name": "python",
   "nbconvert_exporter": "python",
   "pygments_lexer": "ipython3",
   "version": "3.8.8"
  }
 },
 "nbformat": 4,
 "nbformat_minor": 5
}
