{
 "cells": [
  {
   "cell_type": "markdown",
   "metadata": {},
   "source": [
    "# TITLE\n",
    "\n",
    "K-means clustering analysis \n",
    "\n",
    "\n",
    "# NAMES\n",
    "\n",
    "Names :   Rajendra Kumar Vechalapu, Guanyu Zhou , Saketh Yalamarthi\n",
    "\n",
    "Group:   18"
   ]
  },
  {
   "cell_type": "markdown",
   "metadata": {},
   "source": [
    "\n",
    "# ABSTRACT\n",
    "Abstract, a brief introduction or explanation and results/conclusion about what this report is for, < ½  page, 10 pts\n",
    "\n",
    "\n",
    "This report is about k-mean clustering analysis with wine data set. We processed our data and implemented it with the k-means algorithm\n",
    "that was set with 3 clusters. We also visualize clustered data and unclustered to verify our algorithm. In the end, our\n",
    "K-means clustering algorithm looking successfully done."
   ]
  },
  {
   "cell_type": "markdown",
   "metadata": {},
   "source": [
    "# THEORY\n",
    "\n",
    "Theory, <1 page, 20 pts\n",
    "\n",
    "The k-means clustering algorithm is an unsupervised learning algorithm. You will first need to set fixed numbers of k. It refers to a number of centroids. Centroid is the center of a cluster. All data points will be assigned to their cluster by reducing the in-cluster sum of squares. k-Means refers to average data when updating centeriods.\n",
    "\n",
    "The dataset consists of 13 features and 178 entries.We are using Principal Component Analysis to reduce dimensions of data down to 2 features because it is easier to visualize than multi dimensional data. There are tasks that need to be done step by step. We first imported the required libraries such as NumPy, matplotlib. We imported the dataset and made sure it does not have missing values that needed to be handled. We also visualize unclustered 2 features to check what data points look like. After that, we implemented K-means\n",
    "from scratch. We are setting our clusters to be 3 and randomly select points as our random centroids and we visualize our centroids on the previous data graph. \n",
    "Then we calculate the distance between each point and assign them to the closest centroid. We then visualize 3 clusters. We then keep uppdating centroid\n",
    "and assign them to the closest centroid until they stop changing which means the maximum iteration is reached and there is no new clusters are being found. \n",
    "After that, we visualize our optimal centroids. And we did additional step that we are trying to find optimal K. "
   ]
  },
  {
   "cell_type": "markdown",
   "metadata": {
    "id": "wnOAkgyGxThm"
   },
   "source": [
    "# Exploratory Data Analysis"
   ]
  },
  {
   "cell_type": "code",
   "execution_count": 3,
   "metadata": {
    "colab": {
     "base_uri": "https://localhost:8080/",
     "height": 223
    },
    "id": "375uJ_KQa7ui",
    "outputId": "df566a53-9e6d-4896-ba2c-2f7b18c2554c"
   },
   "outputs": [
    {
     "data": {
      "text/html": [
       "<div>\n",
       "<style scoped>\n",
       "    .dataframe tbody tr th:only-of-type {\n",
       "        vertical-align: middle;\n",
       "    }\n",
       "\n",
       "    .dataframe tbody tr th {\n",
       "        vertical-align: top;\n",
       "    }\n",
       "\n",
       "    .dataframe thead th {\n",
       "        text-align: right;\n",
       "    }\n",
       "</style>\n",
       "<table border=\"1\" class=\"dataframe\">\n",
       "  <thead>\n",
       "    <tr style=\"text-align: right;\">\n",
       "      <th></th>\n",
       "      <th>Alcohol</th>\n",
       "      <th>Malic acid</th>\n",
       "      <th>Ash</th>\n",
       "      <th>Alcalinity of ash</th>\n",
       "      <th>Magnesium</th>\n",
       "      <th>Total phenols</th>\n",
       "      <th>Flavanoids</th>\n",
       "      <th>Nonflavanoid phenols</th>\n",
       "      <th>Proanthocyanins</th>\n",
       "      <th>Color intensity</th>\n",
       "      <th>Hue</th>\n",
       "      <th>OD280/OD315 of diluted wines</th>\n",
       "      <th>Proline</th>\n",
       "    </tr>\n",
       "  </thead>\n",
       "  <tbody>\n",
       "    <tr>\n",
       "      <th>0</th>\n",
       "      <td>14.23</td>\n",
       "      <td>1.71</td>\n",
       "      <td>2.43</td>\n",
       "      <td>15.6</td>\n",
       "      <td>127</td>\n",
       "      <td>2.80</td>\n",
       "      <td>3.06</td>\n",
       "      <td>0.28</td>\n",
       "      <td>2.29</td>\n",
       "      <td>5.64</td>\n",
       "      <td>1.04</td>\n",
       "      <td>3.92</td>\n",
       "      <td>1065</td>\n",
       "    </tr>\n",
       "    <tr>\n",
       "      <th>1</th>\n",
       "      <td>13.20</td>\n",
       "      <td>1.78</td>\n",
       "      <td>2.14</td>\n",
       "      <td>11.2</td>\n",
       "      <td>100</td>\n",
       "      <td>2.65</td>\n",
       "      <td>2.76</td>\n",
       "      <td>0.26</td>\n",
       "      <td>1.28</td>\n",
       "      <td>4.38</td>\n",
       "      <td>1.05</td>\n",
       "      <td>3.40</td>\n",
       "      <td>1050</td>\n",
       "    </tr>\n",
       "    <tr>\n",
       "      <th>2</th>\n",
       "      <td>13.16</td>\n",
       "      <td>2.36</td>\n",
       "      <td>2.67</td>\n",
       "      <td>18.6</td>\n",
       "      <td>101</td>\n",
       "      <td>2.80</td>\n",
       "      <td>3.24</td>\n",
       "      <td>0.30</td>\n",
       "      <td>2.81</td>\n",
       "      <td>5.68</td>\n",
       "      <td>1.03</td>\n",
       "      <td>3.17</td>\n",
       "      <td>1185</td>\n",
       "    </tr>\n",
       "    <tr>\n",
       "      <th>3</th>\n",
       "      <td>14.37</td>\n",
       "      <td>1.95</td>\n",
       "      <td>2.50</td>\n",
       "      <td>16.8</td>\n",
       "      <td>113</td>\n",
       "      <td>3.85</td>\n",
       "      <td>3.49</td>\n",
       "      <td>0.24</td>\n",
       "      <td>2.18</td>\n",
       "      <td>7.80</td>\n",
       "      <td>0.86</td>\n",
       "      <td>3.45</td>\n",
       "      <td>1480</td>\n",
       "    </tr>\n",
       "    <tr>\n",
       "      <th>4</th>\n",
       "      <td>13.24</td>\n",
       "      <td>2.59</td>\n",
       "      <td>2.87</td>\n",
       "      <td>21.0</td>\n",
       "      <td>118</td>\n",
       "      <td>2.80</td>\n",
       "      <td>2.69</td>\n",
       "      <td>0.39</td>\n",
       "      <td>1.82</td>\n",
       "      <td>4.32</td>\n",
       "      <td>1.04</td>\n",
       "      <td>2.93</td>\n",
       "      <td>735</td>\n",
       "    </tr>\n",
       "  </tbody>\n",
       "</table>\n",
       "</div>"
      ],
      "text/plain": [
       "   Alcohol  Malic acid   Ash  Alcalinity of ash  Magnesium  Total phenols  \\\n",
       "0    14.23        1.71  2.43               15.6        127           2.80   \n",
       "1    13.20        1.78  2.14               11.2        100           2.65   \n",
       "2    13.16        2.36  2.67               18.6        101           2.80   \n",
       "3    14.37        1.95  2.50               16.8        113           3.85   \n",
       "4    13.24        2.59  2.87               21.0        118           2.80   \n",
       "\n",
       "   Flavanoids  Nonflavanoid phenols  Proanthocyanins  Color intensity   Hue  \\\n",
       "0        3.06                  0.28             2.29             5.64  1.04   \n",
       "1        2.76                  0.26             1.28             4.38  1.05   \n",
       "2        3.24                  0.30             2.81             5.68  1.03   \n",
       "3        3.49                  0.24             2.18             7.80  0.86   \n",
       "4        2.69                  0.39             1.82             4.32  1.04   \n",
       "\n",
       "   OD280/OD315 of diluted wines  Proline  \n",
       "0                          3.92     1065  \n",
       "1                          3.40     1050  \n",
       "2                          3.17     1185  \n",
       "3                          3.45     1480  \n",
       "4                          2.93      735  "
      ]
     },
     "execution_count": 3,
     "metadata": {},
     "output_type": "execute_result"
    }
   ],
   "source": [
    "import pandas as pd\n",
    "import numpy as np\n",
    "import matplotlib.pyplot as plt\n",
    "import seaborn as sns\n",
    "\n",
    "data = pd.read_csv(r'C:\\Users\\Guanyu\\Desktop\\Zhou-2021Fall-Courses\\DSCI-6001-02Math for Data Scientists\\HW\\Fall ZHOU HOMEWORK\\project 2 due1201\\DSCI6001_prj2_data.csv')\n",
    "data.head()"
   ]
  },
  {
   "cell_type": "code",
   "execution_count": 4,
   "metadata": {
    "colab": {
     "base_uri": "https://localhost:8080/"
    },
    "id": "xwpGWuV5wKYJ",
    "outputId": "e8fa113f-3e12-4dec-90e1-cab7449197be"
   },
   "outputs": [
    {
     "data": {
      "text/plain": [
       "(178, 13)"
      ]
     },
     "execution_count": 4,
     "metadata": {},
     "output_type": "execute_result"
    }
   ],
   "source": [
    "data.shape"
   ]
  },
  {
   "cell_type": "code",
   "execution_count": 5,
   "metadata": {
    "colab": {
     "base_uri": "https://localhost:8080/"
    },
    "id": "3B2S913XxQ5H",
    "outputId": "2d5a0560-cbaa-4cbe-8e2d-2dedd1d8dd96"
   },
   "outputs": [
    {
     "data": {
      "text/plain": [
       "<bound method NDFrame.describe of      Alcohol  Malic acid   Ash  Alcalinity of ash  Magnesium  Total phenols  \\\n",
       "0      14.23        1.71  2.43               15.6        127           2.80   \n",
       "1      13.20        1.78  2.14               11.2        100           2.65   \n",
       "2      13.16        2.36  2.67               18.6        101           2.80   \n",
       "3      14.37        1.95  2.50               16.8        113           3.85   \n",
       "4      13.24        2.59  2.87               21.0        118           2.80   \n",
       "..       ...         ...   ...                ...        ...            ...   \n",
       "173    13.71        5.65  2.45               20.5         95           1.68   \n",
       "174    13.40        3.91  2.48               23.0        102           1.80   \n",
       "175    13.27        4.28  2.26               20.0        120           1.59   \n",
       "176    13.17        2.59  2.37               20.0        120           1.65   \n",
       "177    14.13        4.10  2.74               24.5         96           2.05   \n",
       "\n",
       "     Flavanoids  Nonflavanoid phenols  Proanthocyanins  Color intensity   Hue  \\\n",
       "0          3.06                  0.28             2.29             5.64  1.04   \n",
       "1          2.76                  0.26             1.28             4.38  1.05   \n",
       "2          3.24                  0.30             2.81             5.68  1.03   \n",
       "3          3.49                  0.24             2.18             7.80  0.86   \n",
       "4          2.69                  0.39             1.82             4.32  1.04   \n",
       "..          ...                   ...              ...              ...   ...   \n",
       "173        0.61                  0.52             1.06             7.70  0.64   \n",
       "174        0.75                  0.43             1.41             7.30  0.70   \n",
       "175        0.69                  0.43             1.35            10.20  0.59   \n",
       "176        0.68                  0.53             1.46             9.30  0.60   \n",
       "177        0.76                  0.56             1.35             9.20  0.61   \n",
       "\n",
       "     OD280/OD315 of diluted wines  Proline  \n",
       "0                            3.92     1065  \n",
       "1                            3.40     1050  \n",
       "2                            3.17     1185  \n",
       "3                            3.45     1480  \n",
       "4                            2.93      735  \n",
       "..                            ...      ...  \n",
       "173                          1.74      740  \n",
       "174                          1.56      750  \n",
       "175                          1.56      835  \n",
       "176                          1.62      840  \n",
       "177                          1.60      560  \n",
       "\n",
       "[178 rows x 13 columns]>"
      ]
     },
     "execution_count": 5,
     "metadata": {},
     "output_type": "execute_result"
    }
   ],
   "source": [
    "data.describe"
   ]
  },
  {
   "cell_type": "markdown",
   "metadata": {
    "id": "_FBRerQCcdZ2"
   },
   "source": [
    "Standardizing the data:"
   ]
  },
  {
   "cell_type": "code",
   "execution_count": 6,
   "metadata": {
    "id": "eqLg8vx-H8g_"
   },
   "outputs": [],
   "source": [
    "data_standard = (data-np.average(data))/(np.std(data))"
   ]
  },
  {
   "cell_type": "markdown",
   "metadata": {
    "id": "JjL6KgD9chaA"
   },
   "source": [
    "Finding covariance of the data matrix:"
   ]
  },
  {
   "cell_type": "code",
   "execution_count": 7,
   "metadata": {
    "colab": {
     "base_uri": "https://localhost:8080/"
    },
    "id": "x2VUqxd8JyxM",
    "outputId": "800814ab-9660-4ebf-c0df-5df7147f1c73"
   },
   "outputs": [
    {
     "data": {
      "text/plain": [
       "array([[ 1.00564972,  0.09493026,  0.21273976, -0.31198788,  0.27232816,\n",
       "         0.29073446,  0.23815287, -0.15681042,  0.13747022,  0.549451  ,\n",
       "        -0.07215255,  0.07275191,  0.64735687],\n",
       "       [ 0.09493026,  1.00564972,  0.16497228,  0.29013035, -0.05488343,\n",
       "        -0.3370606 , -0.41332866,  0.29463237, -0.22199334,  0.25039204,\n",
       "        -0.56446685, -0.37079354, -0.19309537],\n",
       "       [ 0.21273976,  0.16497228,  1.00564972,  0.44587209,  0.28820583,\n",
       "         0.12970824,  0.11572743,  0.1872826 ,  0.00970647,  0.2603499 ,\n",
       "        -0.07508874,  0.00393333,  0.22488969],\n",
       "       [-0.31198788,  0.29013035,  0.44587209,  1.00564972, -0.0838039 ,\n",
       "        -0.32292752, -0.353355  ,  0.36396647, -0.19844168,  0.01883781,\n",
       "        -0.27550299, -0.27833221, -0.44308618],\n",
       "       [ 0.27232816, -0.05488343,  0.28820583, -0.0838039 ,  1.00564972,\n",
       "         0.21561254,  0.19688989, -0.25774204,  0.23777643,  0.20107967,\n",
       "         0.05571118,  0.06637684,  0.39557317]])"
      ]
     },
     "execution_count": 7,
     "metadata": {},
     "output_type": "execute_result"
    }
   ],
   "source": [
    "data_features = data_standard.T\n",
    "cov_matrix = np.cov(data_features)\n",
    "cov_matrix[:5]"
   ]
  },
  {
   "cell_type": "markdown",
   "metadata": {
    "id": "229B_sFmcmCT"
   },
   "source": [
    "Finding Eigen values and vectors:"
   ]
  },
  {
   "cell_type": "code",
   "execution_count": 8,
   "metadata": {
    "colab": {
     "base_uri": "https://localhost:8080/"
    },
    "id": "Zvs2w1uQMK0k",
    "outputId": "99c4e8d3-b71a-4c78-a961-a6ea4728240d"
   },
   "outputs": [
    {
     "data": {
      "text/plain": [
       "array([4.73243698, 2.51108093, 1.45424187, 0.92416587, 0.85804868])"
      ]
     },
     "execution_count": 8,
     "metadata": {},
     "output_type": "execute_result"
    }
   ],
   "source": [
    "values, vectors = np.linalg.eig(cov_matrix)\n",
    "values[:5]"
   ]
  },
  {
   "cell_type": "code",
   "execution_count": 9,
   "metadata": {
    "colab": {
     "base_uri": "https://localhost:8080/"
    },
    "id": "efKzLUARNj1q",
    "outputId": "a9d9ebe8-04db-4699-b0b7-c9665482aeb4"
   },
   "outputs": [
    {
     "data": {
      "text/plain": [
       "array([[-0.1443294 ,  0.48365155, -0.20738262,  0.0178563 , -0.26566365,\n",
       "         0.21353865,  0.05639636, -0.01496997,  0.39613926, -0.26628645,\n",
       "        -0.50861912, -0.22591696,  0.21160473],\n",
       "       [ 0.24518758,  0.22493093,  0.08901289, -0.53689028,  0.03521363,\n",
       "         0.53681385, -0.42052391, -0.02596375,  0.06582674,  0.12169604,\n",
       "         0.07528304,  0.07648554, -0.30907994],\n",
       "       [ 0.00205106,  0.31606881,  0.6262239 ,  0.21417556, -0.14302547,\n",
       "         0.15447466,  0.14917061,  0.14121803, -0.17026002, -0.04962237,\n",
       "         0.30769445, -0.49869142, -0.02712539],\n",
       "       [ 0.23932041, -0.0105905 ,  0.61208035, -0.06085941,  0.06610294,\n",
       "        -0.10082451,  0.28696914, -0.09168285,  0.42797018, -0.05574287,\n",
       "        -0.20044931,  0.47931378,  0.05279942],\n",
       "       [-0.14199204,  0.299634  ,  0.13075693,  0.35179658,  0.72704851,\n",
       "         0.03814394, -0.3228833 , -0.05677422, -0.15636143,  0.06222011,\n",
       "        -0.27140257,  0.07128891,  0.06787022]])"
      ]
     },
     "execution_count": 9,
     "metadata": {},
     "output_type": "execute_result"
    }
   ],
   "source": [
    "vectors[:5]"
   ]
  },
  {
   "cell_type": "code",
   "execution_count": 10,
   "metadata": {
    "colab": {
     "base_uri": "https://localhost:8080/"
    },
    "id": "e0kY7EOzN3tF",
    "outputId": "70dd5013-103b-48ad-c8be-a782551b26c1"
   },
   "outputs": [
    {
     "name": "stdout",
     "output_type": "stream",
     "text": [
      "1.0000000000000002 \n",
      " [0.361988480999264, 0.19207490257008902, 0.11123630536249987, 0.07069030182714038, 0.06563293679648607, 0.04935823319222581, 0.042386793226232955, 0.007952148898994524, 0.02680748948378846, 0.01298232575604212, 0.022221534047896948, 0.017368356899899202, 0.019300190939440715]\n"
     ]
    }
   ],
   "source": [
    "explained_variances = []\n",
    "for i in range(len(values)):\n",
    "    explained_variances.append(values[i] / np.sum(values))\n",
    " \n",
    "print(np.sum(explained_variances), '\\n', explained_variances)"
   ]
  },
  {
   "cell_type": "markdown",
   "metadata": {
    "id": "bBxnKHeadUEm"
   },
   "source": [
    "PCA components:"
   ]
  },
  {
   "cell_type": "code",
   "execution_count": 11,
   "metadata": {
    "colab": {
     "base_uri": "https://localhost:8080/",
     "height": 206
    },
    "id": "3-ccD5tsOesY",
    "outputId": "b4422890-e6e4-4ecd-9bae-7675350e72fd"
   },
   "outputs": [
    {
     "data": {
      "text/html": [
       "<div>\n",
       "<style scoped>\n",
       "    .dataframe tbody tr th:only-of-type {\n",
       "        vertical-align: middle;\n",
       "    }\n",
       "\n",
       "    .dataframe tbody tr th {\n",
       "        vertical-align: top;\n",
       "    }\n",
       "\n",
       "    .dataframe thead th {\n",
       "        text-align: right;\n",
       "    }\n",
       "</style>\n",
       "<table border=\"1\" class=\"dataframe\">\n",
       "  <thead>\n",
       "    <tr style=\"text-align: right;\">\n",
       "      <th></th>\n",
       "      <th>PC1</th>\n",
       "      <th>PC2</th>\n",
       "    </tr>\n",
       "  </thead>\n",
       "  <tbody>\n",
       "    <tr>\n",
       "      <th>0</th>\n",
       "      <td>51.055952</td>\n",
       "      <td>-64.178965</td>\n",
       "    </tr>\n",
       "    <tr>\n",
       "      <th>1</th>\n",
       "      <td>52.163238</td>\n",
       "      <td>-65.955821</td>\n",
       "    </tr>\n",
       "    <tr>\n",
       "      <th>2</th>\n",
       "      <td>51.855963</td>\n",
       "      <td>-64.591277</td>\n",
       "    </tr>\n",
       "    <tr>\n",
       "      <th>3</th>\n",
       "      <td>50.615637</td>\n",
       "      <td>-62.866056</td>\n",
       "    </tr>\n",
       "    <tr>\n",
       "      <th>4</th>\n",
       "      <td>53.363794</td>\n",
       "      <td>-64.752597</td>\n",
       "    </tr>\n",
       "  </tbody>\n",
       "</table>\n",
       "</div>"
      ],
      "text/plain": [
       "         PC1        PC2\n",
       "0  51.055952 -64.178965\n",
       "1  52.163238 -65.955821\n",
       "2  51.855963 -64.591277\n",
       "3  50.615637 -62.866056\n",
       "4  53.363794 -64.752597"
      ]
     },
     "execution_count": 11,
     "metadata": {},
     "output_type": "execute_result"
    }
   ],
   "source": [
    "projected_1 = data_standard.dot(vectors.T[0])\n",
    "projected_2 = data_standard.dot(vectors.T[1])\n",
    "data_PCA = pd.DataFrame(projected_1, columns=['PC1'])\n",
    "data_PCA['PC2'] = projected_2\n",
    "data_PCA.head()"
   ]
  },
  {
   "cell_type": "markdown",
   "metadata": {
    "id": "wUVE_T7HdXoC"
   },
   "source": [
    "Scatter plot of raw data:"
   ]
  },
  {
   "cell_type": "code",
   "execution_count": 12,
   "metadata": {
    "colab": {
     "base_uri": "https://localhost:8080/",
     "height": 406
    },
    "id": "qMwoJ3wPQUw7",
    "outputId": "18b1af0a-5bc2-49a7-f83e-089ae9042a26"
   },
   "outputs": [
    {
     "name": "stderr",
     "output_type": "stream",
     "text": [
      "D:\\APP\\Anaconda\\lib\\site-packages\\seaborn\\_decorators.py:36: FutureWarning: Pass the following variables as keyword args: x, y. From version 0.12, the only valid positional argument will be `data`, and passing other arguments without an explicit keyword will result in an error or misinterpretation.\n",
      "  warnings.warn(\n"
     ]
    },
    {
     "data": {
      "text/plain": [
       "<AxesSubplot:xlabel='PC1', ylabel='PC2'>"
      ]
     },
     "execution_count": 12,
     "metadata": {},
     "output_type": "execute_result"
    },
    {
     "data": {
      "image/png": "[encoded data removed]",
      "text/plain": [
       "<Figure size 720x360 with 1 Axes>"
      ]
     },
     "metadata": {
      "needs_background": "light"
     },
     "output_type": "display_data"
    }
   ],
   "source": [
    "plt.figure(figsize=(10, 5))\n",
    "sns.scatterplot(data_PCA['PC1'], data_PCA['PC2'], s=100)"
   ]
  },
  {
   "cell_type": "code",
   "execution_count": 13,
   "metadata": {
    "id": "qGc4zG5URYwB"
   },
   "outputs": [],
   "source": [
    "data_array = data_PCA.values"
   ]
  },
  {
   "cell_type": "markdown",
   "metadata": {
    "id": "KJqrhCvNQapG"
   },
   "source": [
    "Calculating Sum of Squares of Error"
   ]
  },
  {
   "cell_type": "code",
   "execution_count": 14,
   "metadata": {
    "id": "-DNTNnwTQKsu"
   },
   "outputs": [],
   "source": [
    "def sse(data_array, centroids, cluster):\n",
    "  sum = 0\n",
    "  for i, pc in enumerate(data_array):\n",
    "    sum += np.sqrt((centroids[int(cluster[i]), 0]-pc[0])**2 +(centroids[int(cluster[i]), 1]-pc[1])**2)\n",
    "  return sum"
   ]
  },
  {
   "cell_type": "markdown",
   "metadata": {
    "id": "zjdQlIDdQ9NV"
   },
   "source": [
    "k-means clustering"
   ]
  },
  {
   "cell_type": "code",
   "execution_count": 15,
   "metadata": {
    "id": "fO2PcyoxQxuQ"
   },
   "outputs": [],
   "source": [
    "def k_means_cluster(data_array, k):   #k-number of clusters\n",
    "  diff = 1\n",
    "  cluster = np.zeros(data_array.shape[0])\n",
    "  centroids = data_PCA.sample(n=k).values\n",
    "  while diff:\n",
    "     # for each iteration\n",
    "     for i, pc in enumerate(data_array):\n",
    "         distance = float('inf')\n",
    "         # dist of the point from all centroids\n",
    "         for index, centroid in enumerate(centroids):\n",
    "            d = np.sqrt((centroid[0]-pc[0])**2 + (centroid[1]-pc[1])**2)\n",
    "            # store closest centroid\n",
    "            if distance > d:\n",
    "               distance = d\n",
    "               cluster[i] = index\n",
    "     new_centroids = pd.DataFrame(data_array).groupby(by=cluster).mean().values\n",
    "     # If centroids do not change, then break the loop\n",
    "     if np.count_nonzero(centroids-new_centroids) == 0:\n",
    "        diff = 0\n",
    "     else:\n",
    "\n",
    "       centroids = new_centroids\n",
    "  return centroids, cluster\n"
   ]
  },
  {
   "cell_type": "markdown",
   "metadata": {
    "id": "rkWNOpLJS27l"
   },
   "source": [
    "Finding Optimal k using elbow method"
   ]
  },
  {
   "cell_type": "code",
   "execution_count": 16,
   "metadata": {
    "id": "KqnGCGJ6SfN5"
   },
   "outputs": [],
   "source": [
    "error = []\n",
    "for k in range(1, 10):\n",
    "    centroids, cluster = k_means_cluster(data_array, k)\n",
    "    # Sum of Squares of Error\n",
    "    err = sse(data_array, centroids, cluster)\n",
    "    error.append(err)"
   ]
  },
  {
   "cell_type": "markdown",
   "metadata": {
    "id": "qGyedtpNTh1H"
   },
   "source": [
    "Plotting Elbow Curve"
   ]
  },
  {
   "cell_type": "code",
   "execution_count": 17,
   "metadata": {
    "colab": {
     "base_uri": "https://localhost:8080/",
     "height": 279
    },
    "id": "6dc5vp2uTUN0",
    "outputId": "549737a4-6154-46d2-dd4e-0b7706cf78bc"
   },
   "outputs": [
    {
     "data": {
      "image/png": "[encoded data removed]",
      "text/plain": [
       "<Figure size 432x288 with 1 Axes>"
      ]
     },
     "metadata": {
      "needs_background": "light"
     },
     "output_type": "display_data"
    }
   ],
   "source": [
    "sns.lineplot(x=range(1,10), y=error, marker='o')\n",
    "plt.xlabel('k')\n",
    "plt.ylabel('SSE')\n",
    "plt.show()"
   ]
  },
  {
   "cell_type": "code",
   "execution_count": 18,
   "metadata": {
    "id": "Al-0zhVeTqUf"
   },
   "outputs": [],
   "source": [
    "for i in range(2,6):\n",
    "  centroids, cluster = k_means_cluster(data_array, k)"
   ]
  },
  {
   "cell_type": "markdown",
   "metadata": {
    "id": "pz6IqLrsUTTG"
   },
   "source": [
    "Visualizing clusters for various values of k"
   ]
  },
  {
   "cell_type": "code",
   "execution_count": 19,
   "metadata": {
    "colab": {
     "base_uri": "https://localhost:8080/",
     "height": 385
    },
    "id": "8L8E2lkiURR4",
    "outputId": "ef35589a-f304-4288-c54d-0500ac62cbbc"
   },
   "outputs": [
    {
     "name": "stderr",
     "output_type": "stream",
     "text": [
      "D:\\APP\\Anaconda\\lib\\site-packages\\seaborn\\_decorators.py:36: FutureWarning: Pass the following variables as keyword args: x, y. From version 0.12, the only valid positional argument will be `data`, and passing other arguments without an explicit keyword will result in an error or misinterpretation.\n",
      "  warnings.warn(\n",
      "D:\\APP\\Anaconda\\lib\\site-packages\\seaborn\\_decorators.py:36: FutureWarning: Pass the following variables as keyword args: x, y. From version 0.12, the only valid positional argument will be `data`, and passing other arguments without an explicit keyword will result in an error or misinterpretation.\n",
      "  warnings.warn(\n"
     ]
    },
    {
     "data": {
      "image/png": "[encoded data removed]",
      "text/plain": [
       "<Figure size 432x288 with 1 Axes>"
      ]
     },
     "metadata": {
      "needs_background": "light"
     },
     "output_type": "display_data"
    }
   ],
   "source": [
    "k = 3\n",
    "centroids, cluster = k_means_cluster(data_array, k)\n",
    "sns.scatterplot(data_array[:,0], data_array[:, 1], hue=cluster, palette=['r','b','g'])\n",
    "sns.scatterplot(centroids[:,0], centroids[:, 1], s=100, color='y')\n",
    "plt.xlabel('PC1')\n",
    "plt.ylabel('PC2')\n",
    "plt.title('k=3')\n",
    "plt.show()"
   ]
  },
  {
   "cell_type": "code",
   "execution_count": 20,
   "metadata": {
    "colab": {
     "base_uri": "https://localhost:8080/",
     "height": 385
    },
    "id": "4R2evFn7aRKB",
    "outputId": "2ffcc0e6-7370-485d-ac17-73a3a1cadf6d"
   },
   "outputs": [
    {
     "name": "stderr",
     "output_type": "stream",
     "text": [
      "D:\\APP\\Anaconda\\lib\\site-packages\\seaborn\\_decorators.py:36: FutureWarning: Pass the following variables as keyword args: x, y. From version 0.12, the only valid positional argument will be `data`, and passing other arguments without an explicit keyword will result in an error or misinterpretation.\n",
      "  warnings.warn(\n",
      "D:\\APP\\Anaconda\\lib\\site-packages\\seaborn\\_decorators.py:36: FutureWarning: Pass the following variables as keyword args: x, y. From version 0.12, the only valid positional argument will be `data`, and passing other arguments without an explicit keyword will result in an error or misinterpretation.\n",
      "  warnings.warn(\n"
     ]
    },
    {
     "data": {
      "image/png": "[encoded data removed]",
      "text/plain": [
       "<Figure size 432x288 with 1 Axes>"
      ]
     },
     "metadata": {
      "needs_background": "light"
     },
     "output_type": "display_data"
    }
   ],
   "source": [
    "k = 4\n",
    "centroids, cluster = k_means_cluster(data_array, k)\n",
    "sns.scatterplot(data_array[:,0], data_array[:, 1], hue=cluster, palette=['r','b','g','black'])\n",
    "sns.scatterplot(centroids[:,0], centroids[:, 1], s=100, color='y')\n",
    "plt.xlabel('PC1')\n",
    "plt.ylabel('PC2')\n",
    "plt.title('k=4')\n",
    "plt.show()"
   ]
  },
  {
   "cell_type": "code",
   "execution_count": 21,
   "metadata": {
    "colab": {
     "base_uri": "https://localhost:8080/",
     "height": 385
    },
    "id": "Ot64MZMHaYMC",
    "outputId": "fad5aedc-891b-419d-d029-687b48d15386"
   },
   "outputs": [
    {
     "name": "stderr",
     "output_type": "stream",
     "text": [
      "D:\\APP\\Anaconda\\lib\\site-packages\\seaborn\\_decorators.py:36: FutureWarning: Pass the following variables as keyword args: x, y. From version 0.12, the only valid positional argument will be `data`, and passing other arguments without an explicit keyword will result in an error or misinterpretation.\n",
      "  warnings.warn(\n",
      "D:\\APP\\Anaconda\\lib\\site-packages\\seaborn\\_decorators.py:36: FutureWarning: Pass the following variables as keyword args: x, y. From version 0.12, the only valid positional argument will be `data`, and passing other arguments without an explicit keyword will result in an error or misinterpretation.\n",
      "  warnings.warn(\n"
     ]
    },
    {
     "data": {
      "image/png": "[encoded data removed]",
      "text/plain": [
       "<Figure size 432x288 with 1 Axes>"
      ]
     },
     "metadata": {
      "needs_background": "light"
     },
     "output_type": "display_data"
    }
   ],
   "source": [
    "k = 5\n",
    "centroids, cluster = k_means_cluster(data_array, k)\n",
    "sns.scatterplot(data_array[:,0], data_array[:, 1], hue=cluster, palette=['r','b','g','black','orange'])\n",
    "sns.scatterplot(centroids[:,0], centroids[:, 1], s=100, color='y')\n",
    "plt.xlabel('PC1')\n",
    "plt.ylabel('PC2')\n",
    "plt.title('k=5')\n",
    "plt.show()"
   ]
  },
  {
   "cell_type": "code",
   "execution_count": 22,
   "metadata": {
    "colab": {
     "base_uri": "https://localhost:8080/",
     "height": 385
    },
    "id": "TFM9fMKNagsS",
    "outputId": "f3cafe10-739b-4a84-b5fc-a3d4009b360b"
   },
   "outputs": [
    {
     "name": "stderr",
     "output_type": "stream",
     "text": [
      "D:\\APP\\Anaconda\\lib\\site-packages\\seaborn\\_decorators.py:36: FutureWarning: Pass the following variables as keyword args: x, y. From version 0.12, the only valid positional argument will be `data`, and passing other arguments without an explicit keyword will result in an error or misinterpretation.\n",
      "  warnings.warn(\n",
      "D:\\APP\\Anaconda\\lib\\site-packages\\seaborn\\_decorators.py:36: FutureWarning: Pass the following variables as keyword args: x, y. From version 0.12, the only valid positional argument will be `data`, and passing other arguments without an explicit keyword will result in an error or misinterpretation.\n",
      "  warnings.warn(\n"
     ]
    },
    {
     "data": {
      "image/png": "[encoded data removed]",
      "text/plain": [
       "<Figure size 432x288 with 1 Axes>"
      ]
     },
     "metadata": {
      "needs_background": "light"
     },
     "output_type": "display_data"
    }
   ],
   "source": [
    "k = 6\n",
    "centroids, cluster = k_means_cluster(data_array, k)\n",
    "sns.scatterplot(data_array[:,0], data_array[:, 1], hue=cluster, palette=['r','b','g','black','orange','magenta'])\n",
    "sns.scatterplot(centroids[:,0], centroids[:, 1], s=100, color='y')\n",
    "plt.xlabel('PC1')\n",
    "plt.ylabel('PC2')\n",
    "plt.title('k=6')\n",
    "plt.show()"
   ]
  },
  {
   "cell_type": "markdown",
   "metadata": {
    "id": "Y0qoKG04WZ4Y"
   },
   "source": [
    "# ANALYSIS, RESULT AND EXPLANATION:\n",
    "\n",
    "\n",
    "We first analyze the data that we have. We were curious what data look like so we took a look at the first 5 rows of the data frame. To make data processable, we also check if there are missing values in the data and the result is no missing values. Then We visualize the unclustered data but we can not find clusters from the graph. It is just data points spread on the graph. To make clusters more apparent, we are here implementing the K-means algorithm. But we first need to determine how many clusters that we need. At here we are setting clusters to be 3 by unclustered data points visual inspection. It also means we are selecting three points as our centroids. At this point, we are plotting our 3 random centroids on our unclustered data points map. And then we create a function to calculate the distance between the data points and our three random centroids and assign them to the closest cluster, also we give each of them colors too. After the assignment, we plot them and it's looking good. But we to do more further steps as we need to update centroids to become newly formed clusters. It means again and again, we are calculating the distance between data points and new centroids to assign and form newly clusters until centroids stop changing which means no new clusters have been found. Our iterations have gone through 6 times till it stops. The result is showing three clusters and is more apparent than it was. Additionally, we were wondering what was the best k value for us. Because we don't know how many classes we want, we used the popular Elbow method to see the best K value we should use, and the result showing the point that inertia starts decreasing linearly is between 3-4 It's the same as our first picking K as three.\n",
    "\n",
    "1. Since there are 13 dimensional features, we converted them into 2 dimensions using principal component analysis. After performing PCA and converting into 2 dimensions, we are left with approximately 56% of original data. \n",
    "\n",
    "2. From the Elbow plot between number of clusters(k) and Sum of Squared Error(SSE), we can find that from k=3, the curve starts to flatten.\n",
    "\n",
    "3. Also for values of k=4,5,6 we plotted and shown the clusters for the given data.\n",
    "\n",
    "4. Even with 6 clusters, data can be clustered, maybe because data is scattered. But that again determines the computation power and gain of information from the plot.\n",
    "\n",
    " 5.But really the curve started to flatten after 3 number of clusters.\n",
    "\n",
    "\n",
    "\n"
   ]
  },
  {
   "cell_type": "markdown",
   "metadata": {
    "id": "kJG4kqUwcRP6"
   },
   "source": [
    "# Conclusion\n",
    "\n",
    "For the given dataset, we can cluster the data into 3 optimal number of clusters balancing both computational power and information gain and the optimal number pf clusters is supported by the elbow curve.\n"
   ]
  },
  {
   "cell_type": "code",
   "execution_count": null,
   "metadata": {
    "id": "Ui6w7Nc8U-Js"
   },
   "outputs": [],
   "source": []
  }
 ],
 "metadata": {
  "colab": {
   "name": "Untitled24.ipynb",
   "provenance": []
  },
  "kernelspec": {
   "display_name": "Python 3",
   "language": "python",
   "name": "python3"
  },
  "language_info": {
   "codemirror_mode": {
    "name": "ipython",
    "version": 3
   },
   "file_extension": ".py",
   "mimetype": "text/x-python",
   "name": "python",
   "nbconvert_exporter": "python",
   "pygments_lexer": "ipython3",
   "version": "3.8.8"
  }
 },
 "nbformat": 4,
 "nbformat_minor": 1
}
