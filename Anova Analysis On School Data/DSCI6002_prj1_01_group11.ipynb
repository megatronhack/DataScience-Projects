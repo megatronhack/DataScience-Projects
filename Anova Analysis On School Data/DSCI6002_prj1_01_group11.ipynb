{
 "cells": [
  {
   "cell_type": "raw",
   "metadata": {},
   "source": [
    "'''\n",
    "                    THIS PROJECT IS DONE VIA USING STATS.MODEL AND WITHOUT IT AS WELL\n",
    "'''"
   ]
  },
  {
   "cell_type": "raw",
   "metadata": {},
   "source": [
    "#                          ............TITLE..............\n",
    "\n",
    "\n",
    "'''\n",
    "\n",
    "ANOVA FOR THE GIVEN DATA SET....\n",
    "ONE WAY ANOVA AS DEPENDENT VARIABLE IS 1\n",
    "\n",
    "'''\n",
    "\n",
    "#                         ............NAMES..............\n",
    "'''\n",
    "\n",
    "Member 1:   Guanyu Zhou\n",
    "Member 2:   Preetam Narendra Soni\n",
    "\n",
    "'''"
   ]
  },
  {
   "cell_type": "raw",
   "metadata": {},
   "source": [
    "'''\n",
    "                                        ......ABSTRACT.......\n",
    "Abstract, a brief introduction or explanation and results/conclusion about what this report is for, < ½  page, 10 pts\n",
    "\n",
    "\n",
    "This report is about one way anova as we have only 1 independent variable with 5 groups. The dataset given is of School which has \n",
    "different categories and values as ['Less than HS' 'HS' 'Jr Coll' \"Bachelor's\" 'Graduate']. We have to find that the mean\n",
    "of the dataset or anova is valid and does the mean varies or not and then using the type1 error we have to find which means vary.\n",
    "but if the mean does not vary then it does satisfy our null hypothesis of h0: mean1=mean2=mean3...=mean(s).\n",
    "lets do and analyse the content of the data\n",
    "\n",
    "'''"
   ]
  },
  {
   "cell_type": "raw",
   "metadata": {},
   "source": [
    "\n",
    "\n",
    "'''\n",
    "\n",
    "                                    ................THEORY....................\n",
    "As discussed above,we are firstly assuming the hypothesis i.e H0 and H1(Alternate) which I have explained below and with respect to the data given we have created a work flow. Theory says that if H0 holds true we are good to consider that the means are same for the groups but if not then we can find which mean is different. Lets see the workflow:\n",
    "\n",
    "\n",
    "Is there a differece between the mean of 5 different groups?['Less than HS','HS','Jr Coll',\"Bachelor's\",'Graduate']\n",
    "To compare 3+ groups we are using one-way ANOVA test.\n",
    "Data Conditions checked:\n",
    "Independence: sample data is independent. they have different degree level.\n",
    "Sample quantity: n>=30, it can be treated as normal distribution. \n",
    "Normality check:There are few outlier in histogram but those outlier but not extreme.\n",
    "EquAL Variability check: its looking they have equal variablity from boxplot. Also Standard error from OLS model looking equal.\n",
    "H1:The mean outcome is the same across all catogories.   u1=u2=u3=uk(u1 represents mean of the ourcome for observations in catogory i)\n",
    "H1: at least one mean is different than others\n",
    "\n",
    "'''\n",
    "\n",
    "\n"
   ]
  },
  {
   "cell_type": "raw",
   "metadata": {},
   "source": [
    "Exploratory Data analysis: 20 points\n",
    "R-squared is the measurement of how much of the dependent variable is explained by changes in our independent variables.\n",
    "In percentage terms, we have 0.016 would mean our model explains 1.6% of the change in our ‘value’ variable\n",
    "\n",
    "\n",
    "Independence:\n",
    "Normality:\n",
    "Equal Varibility:\n",
    "\n"
   ]
  },
  {
   "cell_type": "code",
   "execution_count": 1,
   "metadata": {
    "scrolled": true
   },
   "outputs": [
    {
     "name": "stdout",
     "output_type": "stream",
     "text": [
      "                 0     1\n",
      "0     Less than HS  45.0\n",
      "1     Less than HS  26.0\n",
      "2     Less than HS  43.8\n",
      "3     Less than HS  34.4\n",
      "4     Less than HS  76.2\n",
      "...            ...   ...\n",
      "1167      Graduate  52.7\n",
      "1168      Graduate  59.8\n",
      "1169      Graduate  54.1\n",
      "1170      Graduate  39.9\n",
      "1171      Graduate  58.2\n",
      "\n",
      "[1172 rows x 2 columns]\n",
      "['Less than HS' 'HS' 'Jr Coll' \"Bachelor's\" 'Graduate']\n"
     ]
    }
   ],
   "source": [
    "#we are taking a raw look at what data looks like in panda frame\n",
    "import pandas as pd\n",
    "import statsmodels.api as sm\n",
    "from statsmodels.formula.api import ols\n",
    "\n",
    "d= pd.read_csv('DSCI6002_prj1_data.csv',header=None)\n",
    "print(d)\n",
    "print(d[0].unique())\n"
   ]
  },
  {
   "cell_type": "code",
   "execution_count": 2,
   "metadata": {},
   "outputs": [
    {
     "name": "stdout",
     "output_type": "stream",
     "text": [
      "<class 'pandas.core.frame.DataFrame'>\n"
     ]
    }
   ],
   "source": [
    "#checking data type,   result: yes it is data frame\n",
    "print(type(d))"
   ]
  },
  {
   "cell_type": "code",
   "execution_count": 3,
   "metadata": {},
   "outputs": [
    {
     "name": "stdout",
     "output_type": "stream",
     "text": [
      "(1172, 2)\n"
     ]
    }
   ],
   "source": [
    "#checking data shape,   result 1172 rows and 2 colums\n",
    "print(d.shape)"
   ]
  },
  {
   "cell_type": "code",
   "execution_count": 4,
   "metadata": {},
   "outputs": [
    {
     "name": "stdout",
     "output_type": "stream",
     "text": [
      "<class 'pandas.core.frame.DataFrame'>\n",
      "RangeIndex: 1172 entries, 0 to 1171\n",
      "Data columns (total 2 columns):\n",
      " #   Column  Non-Null Count  Dtype  \n",
      "---  ------  --------------  -----  \n",
      " 0   0       1172 non-null   object \n",
      " 1   1       1172 non-null   float64\n",
      "dtypes: float64(1), object(1)\n",
      "memory usage: 18.4+ KB\n",
      "None\n"
     ]
    }
   ],
   "source": [
    "#checking if there is missing value and data type,  result: no missing values\n",
    "print(d.info())"
   ]
  },
  {
   "cell_type": "code",
   "execution_count": 5,
   "metadata": {},
   "outputs": [
    {
     "name": "stdout",
     "output_type": "stream",
     "text": [
      "['Less than HS' 'HS' 'Jr Coll' \"Bachelor's\" 'Graduate']\n",
      "['Less than HS' 'HS' 'Jr Coll' \"Bachelor's\" 'Graduate']\n"
     ]
    }
   ],
   "source": [
    "#checking unique values of catogorical colum,  results ['Less than HS' 'HS' 'Jr Coll' \"Bachelor's\" 'Graduate']\n",
    "for col in d:\n",
    "    print(d[0].unique())"
   ]
  },
  {
   "cell_type": "code",
   "execution_count": 6,
   "metadata": {},
   "outputs": [
    {
     "data": {
      "text/html": [
       "<div>\n",
       "<style scoped>\n",
       "    .dataframe tbody tr th:only-of-type {\n",
       "        vertical-align: middle;\n",
       "    }\n",
       "\n",
       "    .dataframe tbody tr th {\n",
       "        vertical-align: top;\n",
       "    }\n",
       "\n",
       "    .dataframe thead th {\n",
       "        text-align: right;\n",
       "    }\n",
       "</style>\n",
       "<table border=\"1\" class=\"dataframe\">\n",
       "  <thead>\n",
       "    <tr style=\"text-align: right;\">\n",
       "      <th></th>\n",
       "      <th>degree</th>\n",
       "      <th>value</th>\n",
       "    </tr>\n",
       "  </thead>\n",
       "  <tbody>\n",
       "    <tr>\n",
       "      <th>0</th>\n",
       "      <td>Less than HS</td>\n",
       "      <td>45.0</td>\n",
       "    </tr>\n",
       "    <tr>\n",
       "      <th>1</th>\n",
       "      <td>Less than HS</td>\n",
       "      <td>26.0</td>\n",
       "    </tr>\n",
       "    <tr>\n",
       "      <th>2</th>\n",
       "      <td>Less than HS</td>\n",
       "      <td>43.8</td>\n",
       "    </tr>\n",
       "    <tr>\n",
       "      <th>3</th>\n",
       "      <td>Less than HS</td>\n",
       "      <td>34.4</td>\n",
       "    </tr>\n",
       "    <tr>\n",
       "      <th>4</th>\n",
       "      <td>Less than HS</td>\n",
       "      <td>76.2</td>\n",
       "    </tr>\n",
       "    <tr>\n",
       "      <th>...</th>\n",
       "      <td>...</td>\n",
       "      <td>...</td>\n",
       "    </tr>\n",
       "    <tr>\n",
       "      <th>1167</th>\n",
       "      <td>Graduate</td>\n",
       "      <td>52.7</td>\n",
       "    </tr>\n",
       "    <tr>\n",
       "      <th>1168</th>\n",
       "      <td>Graduate</td>\n",
       "      <td>59.8</td>\n",
       "    </tr>\n",
       "    <tr>\n",
       "      <th>1169</th>\n",
       "      <td>Graduate</td>\n",
       "      <td>54.1</td>\n",
       "    </tr>\n",
       "    <tr>\n",
       "      <th>1170</th>\n",
       "      <td>Graduate</td>\n",
       "      <td>39.9</td>\n",
       "    </tr>\n",
       "    <tr>\n",
       "      <th>1171</th>\n",
       "      <td>Graduate</td>\n",
       "      <td>58.2</td>\n",
       "    </tr>\n",
       "  </tbody>\n",
       "</table>\n",
       "<p>1172 rows × 2 columns</p>\n",
       "</div>"
      ],
      "text/plain": [
       "            degree  value\n",
       "0     Less than HS   45.0\n",
       "1     Less than HS   26.0\n",
       "2     Less than HS   43.8\n",
       "3     Less than HS   34.4\n",
       "4     Less than HS   76.2\n",
       "...            ...    ...\n",
       "1167      Graduate   52.7\n",
       "1168      Graduate   59.8\n",
       "1169      Graduate   54.1\n",
       "1170      Graduate   39.9\n",
       "1171      Graduate   58.2\n",
       "\n",
       "[1172 rows x 2 columns]"
      ]
     },
     "execution_count": 6,
     "metadata": {},
     "output_type": "execute_result"
    }
   ],
   "source": [
    "#replace column names\n",
    "d.columns = ['degree','value']\n",
    "d"
   ]
  },
  {
   "cell_type": "code",
   "execution_count": 7,
   "metadata": {},
   "outputs": [
    {
     "data": {
      "text/html": [
       "<div>\n",
       "<style scoped>\n",
       "    .dataframe tbody tr th:only-of-type {\n",
       "        vertical-align: middle;\n",
       "    }\n",
       "\n",
       "    .dataframe tbody tr th {\n",
       "        vertical-align: top;\n",
       "    }\n",
       "\n",
       "    .dataframe thead th {\n",
       "        text-align: right;\n",
       "    }\n",
       "</style>\n",
       "<table border=\"1\" class=\"dataframe\">\n",
       "  <thead>\n",
       "    <tr style=\"text-align: right;\">\n",
       "      <th>degree</th>\n",
       "      <th>index</th>\n",
       "      <th>Bachelor's</th>\n",
       "      <th>Graduate</th>\n",
       "      <th>HS</th>\n",
       "      <th>Jr Coll</th>\n",
       "      <th>Less than HS</th>\n",
       "    </tr>\n",
       "  </thead>\n",
       "  <tbody>\n",
       "    <tr>\n",
       "      <th>0</th>\n",
       "      <td>0</td>\n",
       "      <td>NaN</td>\n",
       "      <td>NaN</td>\n",
       "      <td>NaN</td>\n",
       "      <td>NaN</td>\n",
       "      <td>45.0</td>\n",
       "    </tr>\n",
       "    <tr>\n",
       "      <th>1</th>\n",
       "      <td>1</td>\n",
       "      <td>NaN</td>\n",
       "      <td>NaN</td>\n",
       "      <td>NaN</td>\n",
       "      <td>NaN</td>\n",
       "      <td>26.0</td>\n",
       "    </tr>\n",
       "    <tr>\n",
       "      <th>2</th>\n",
       "      <td>2</td>\n",
       "      <td>NaN</td>\n",
       "      <td>NaN</td>\n",
       "      <td>NaN</td>\n",
       "      <td>NaN</td>\n",
       "      <td>43.8</td>\n",
       "    </tr>\n",
       "    <tr>\n",
       "      <th>3</th>\n",
       "      <td>3</td>\n",
       "      <td>NaN</td>\n",
       "      <td>NaN</td>\n",
       "      <td>NaN</td>\n",
       "      <td>NaN</td>\n",
       "      <td>34.4</td>\n",
       "    </tr>\n",
       "    <tr>\n",
       "      <th>4</th>\n",
       "      <td>4</td>\n",
       "      <td>NaN</td>\n",
       "      <td>NaN</td>\n",
       "      <td>NaN</td>\n",
       "      <td>NaN</td>\n",
       "      <td>76.2</td>\n",
       "    </tr>\n",
       "    <tr>\n",
       "      <th>...</th>\n",
       "      <td>...</td>\n",
       "      <td>...</td>\n",
       "      <td>...</td>\n",
       "      <td>...</td>\n",
       "      <td>...</td>\n",
       "      <td>...</td>\n",
       "    </tr>\n",
       "    <tr>\n",
       "      <th>1167</th>\n",
       "      <td>1167</td>\n",
       "      <td>NaN</td>\n",
       "      <td>52.7</td>\n",
       "      <td>NaN</td>\n",
       "      <td>NaN</td>\n",
       "      <td>NaN</td>\n",
       "    </tr>\n",
       "    <tr>\n",
       "      <th>1168</th>\n",
       "      <td>1168</td>\n",
       "      <td>NaN</td>\n",
       "      <td>59.8</td>\n",
       "      <td>NaN</td>\n",
       "      <td>NaN</td>\n",
       "      <td>NaN</td>\n",
       "    </tr>\n",
       "    <tr>\n",
       "      <th>1169</th>\n",
       "      <td>1169</td>\n",
       "      <td>NaN</td>\n",
       "      <td>54.1</td>\n",
       "      <td>NaN</td>\n",
       "      <td>NaN</td>\n",
       "      <td>NaN</td>\n",
       "    </tr>\n",
       "    <tr>\n",
       "      <th>1170</th>\n",
       "      <td>1170</td>\n",
       "      <td>NaN</td>\n",
       "      <td>39.9</td>\n",
       "      <td>NaN</td>\n",
       "      <td>NaN</td>\n",
       "      <td>NaN</td>\n",
       "    </tr>\n",
       "    <tr>\n",
       "      <th>1171</th>\n",
       "      <td>1171</td>\n",
       "      <td>NaN</td>\n",
       "      <td>58.2</td>\n",
       "      <td>NaN</td>\n",
       "      <td>NaN</td>\n",
       "      <td>NaN</td>\n",
       "    </tr>\n",
       "  </tbody>\n",
       "</table>\n",
       "<p>1172 rows × 6 columns</p>\n",
       "</div>"
      ],
      "text/plain": [
       "degree  index  Bachelor's  Graduate  HS  Jr Coll  Less than HS\n",
       "0           0         NaN       NaN NaN      NaN          45.0\n",
       "1           1         NaN       NaN NaN      NaN          26.0\n",
       "2           2         NaN       NaN NaN      NaN          43.8\n",
       "3           3         NaN       NaN NaN      NaN          34.4\n",
       "4           4         NaN       NaN NaN      NaN          76.2\n",
       "...       ...         ...       ...  ..      ...           ...\n",
       "1167     1167         NaN      52.7 NaN      NaN           NaN\n",
       "1168     1168         NaN      59.8 NaN      NaN           NaN\n",
       "1169     1169         NaN      54.1 NaN      NaN           NaN\n",
       "1170     1170         NaN      39.9 NaN      NaN           NaN\n",
       "1171     1171         NaN      58.2 NaN      NaN           NaN\n",
       "\n",
       "[1172 rows x 6 columns]"
      ]
     },
     "execution_count": 7,
     "metadata": {},
     "output_type": "execute_result"
    }
   ],
   "source": [
    "#pivot table back to box plot and do data conditions check\n",
    "d_pivot = d.pivot(columns='degree', values='value').reset_index()\n",
    "d_pivot.head(1400)\n",
    "#'Lss than HS','HS','Jr Coll',\"Bachelor's\",'Graduate'"
   ]
  },
  {
   "cell_type": "code",
   "execution_count": 8,
   "metadata": {},
   "outputs": [
    {
     "name": "stderr",
     "output_type": "stream",
     "text": [
      "C:\\Users\\prita\\anaconda3\\lib\\site-packages\\seaborn\\distributions.py:2551: FutureWarning: `distplot` is a deprecated function and will be removed in a future version. Please adapt your code to use either `displot` (a figure-level function with similar flexibility) or `histplot` (an axes-level function for histograms).\n",
      "  warnings.warn(msg, FutureWarning)\n"
     ]
    },
    {
     "data": {
      "text/plain": [
       "<AxesSubplot:xlabel='Less than HS', ylabel='Density'>"
      ]
     },
     "execution_count": 8,
     "metadata": {},
     "output_type": "execute_result"
    },
    {
     "data": {
      "image/png": "[encoded data removed]",
      "text/plain": [
       "<Figure size 432x288 with 1 Axes>"
      ]
     },
     "metadata": {
      "needs_background": "light"
     },
     "output_type": "display_data"
    }
   ],
   "source": [
    "#Normality check ,using histogram\n",
    "# checking column \"Less than HS\",  result: looking nomral\n",
    "import seaborn as sns\n",
    "sns.distplot(d_pivot['Less than HS'],bins='auto',hist=True)"
   ]
  },
  {
   "cell_type": "code",
   "execution_count": 9,
   "metadata": {},
   "outputs": [
    {
     "name": "stderr",
     "output_type": "stream",
     "text": [
      "C:\\Users\\prita\\anaconda3\\lib\\site-packages\\seaborn\\distributions.py:2551: FutureWarning: `distplot` is a deprecated function and will be removed in a future version. Please adapt your code to use either `displot` (a figure-level function with similar flexibility) or `histplot` (an axes-level function for histograms).\n",
      "  warnings.warn(msg, FutureWarning)\n"
     ]
    },
    {
     "data": {
      "text/plain": [
       "<AxesSubplot:xlabel='Jr Coll', ylabel='Density'>"
      ]
     },
     "execution_count": 9,
     "metadata": {},
     "output_type": "execute_result"
    },
    {
     "data": {
      "image/png": "[encoded data removed]",
      "text/plain": [
       "<Figure size 432x288 with 1 Axes>"
      ]
     },
     "metadata": {
      "needs_background": "light"
     },
     "output_type": "display_data"
    }
   ],
   "source": [
    "#Normality check ,using histogram\n",
    "#checking column \"Jr Coll\",  result: looking different but treating as nomral\n",
    "import seaborn as sns\n",
    "sns.distplot(d_pivot['Jr Coll'],bins='auto',hist=True)"
   ]
  },
  {
   "cell_type": "code",
   "execution_count": 10,
   "metadata": {},
   "outputs": [
    {
     "name": "stderr",
     "output_type": "stream",
     "text": [
      "C:\\Users\\prita\\anaconda3\\lib\\site-packages\\seaborn\\distributions.py:2551: FutureWarning: `distplot` is a deprecated function and will be removed in a future version. Please adapt your code to use either `displot` (a figure-level function with similar flexibility) or `histplot` (an axes-level function for histograms).\n",
      "  warnings.warn(msg, FutureWarning)\n"
     ]
    },
    {
     "data": {
      "text/plain": [
       "<AxesSubplot:xlabel='HS', ylabel='Density'>"
      ]
     },
     "execution_count": 10,
     "metadata": {},
     "output_type": "execute_result"
    },
    {
     "data": {
      "image/png": "[encoded data removed]",
      "text/plain": [
       "<Figure size 432x288 with 1 Axes>"
      ]
     },
     "metadata": {
      "needs_background": "light"
     },
     "output_type": "display_data"
    }
   ],
   "source": [
    "#Normality check ,using histogram\n",
    "# checking column \"HS\",  result: looking nomral\n",
    "import seaborn as sns\n",
    "sns.distplot(d_pivot['HS'],bins='auto',hist=True)"
   ]
  },
  {
   "cell_type": "code",
   "execution_count": 11,
   "metadata": {},
   "outputs": [
    {
     "name": "stderr",
     "output_type": "stream",
     "text": [
      "C:\\Users\\prita\\anaconda3\\lib\\site-packages\\seaborn\\distributions.py:2551: FutureWarning: `distplot` is a deprecated function and will be removed in a future version. Please adapt your code to use either `displot` (a figure-level function with similar flexibility) or `histplot` (an axes-level function for histograms).\n",
      "  warnings.warn(msg, FutureWarning)\n"
     ]
    },
    {
     "data": {
      "text/plain": [
       "<AxesSubplot:xlabel='Graduate', ylabel='Density'>"
      ]
     },
     "execution_count": 11,
     "metadata": {},
     "output_type": "execute_result"
    },
    {
     "data": {
      "image/png": "[encoded data removed]",
      "text/plain": [
       "<Figure size 432x288 with 1 Axes>"
      ]
     },
     "metadata": {
      "needs_background": "light"
     },
     "output_type": "display_data"
    }
   ],
   "source": [
    "#Normality check ,using histogram\n",
    "# checking column \"Graudate\",  result: looking nomral\n",
    "import seaborn as sns\n",
    "sns.distplot(d_pivot['Graduate'],bins='auto',hist=True)"
   ]
  },
  {
   "cell_type": "code",
   "execution_count": 12,
   "metadata": {},
   "outputs": [
    {
     "name": "stderr",
     "output_type": "stream",
     "text": [
      "C:\\Users\\prita\\anaconda3\\lib\\site-packages\\seaborn\\distributions.py:2551: FutureWarning: `distplot` is a deprecated function and will be removed in a future version. Please adapt your code to use either `displot` (a figure-level function with similar flexibility) or `histplot` (an axes-level function for histograms).\n",
      "  warnings.warn(msg, FutureWarning)\n"
     ]
    },
    {
     "data": {
      "text/plain": [
       "<AxesSubplot:xlabel=\"Bachelor's\", ylabel='Density'>"
      ]
     },
     "execution_count": 12,
     "metadata": {},
     "output_type": "execute_result"
    },
    {
     "data": {
      "image/png": "[encoded data removed]",
      "text/plain": [
       "<Figure size 432x288 with 1 Axes>"
      ]
     },
     "metadata": {
      "needs_background": "light"
     },
     "output_type": "display_data"
    }
   ],
   "source": [
    "#Normality check ,using histogram\n",
    "# checking column \"Bachelor's\",  result: looking nomral\n",
    "import seaborn as sns\n",
    "sns.distplot(d_pivot[\"Bachelor's\"],bins='auto',hist=True)"
   ]
  },
  {
   "cell_type": "code",
   "execution_count": 13,
   "metadata": {},
   "outputs": [
    {
     "data": {
      "text/plain": [
       "<AxesSubplot:>"
      ]
     },
     "execution_count": 13,
     "metadata": {},
     "output_type": "execute_result"
    },
    {
     "data": {
      "image/png": "[encoded data removed]",
      "text/plain": [
       "<Figure size 432x288 with 1 Axes>"
      ]
     },
     "metadata": {
      "needs_background": "light"
     },
     "output_type": "display_data"
    }
   ],
   "source": [
    "# Equal Varablity check:    result: looking equal\n",
    "d_pivot.boxplot(column=['Less than HS','HS','Jr Coll',\"Bachelor's\",'Graduate'],grid=False)  # grid= lines in graph"
   ]
  },
  {
   "cell_type": "code",
   "execution_count": null,
   "metadata": {},
   "outputs": [],
   "source": []
  },
  {
   "cell_type": "code",
   "execution_count": 14,
   "metadata": {},
   "outputs": [
    {
     "data": {
      "text/html": [
       "<div>\n",
       "<style scoped>\n",
       "    .dataframe tbody tr th:only-of-type {\n",
       "        vertical-align: middle;\n",
       "    }\n",
       "\n",
       "    .dataframe tbody tr th {\n",
       "        vertical-align: top;\n",
       "    }\n",
       "\n",
       "    .dataframe thead th {\n",
       "        text-align: right;\n",
       "    }\n",
       "</style>\n",
       "<table border=\"1\" class=\"dataframe\">\n",
       "  <thead>\n",
       "    <tr style=\"text-align: right;\">\n",
       "      <th></th>\n",
       "      <th>degree</th>\n",
       "      <th>value</th>\n",
       "    </tr>\n",
       "  </thead>\n",
       "  <tbody>\n",
       "    <tr>\n",
       "      <th>0</th>\n",
       "      <td>Less than HS</td>\n",
       "      <td>45.0</td>\n",
       "    </tr>\n",
       "    <tr>\n",
       "      <th>1</th>\n",
       "      <td>Less than HS</td>\n",
       "      <td>26.0</td>\n",
       "    </tr>\n",
       "    <tr>\n",
       "      <th>2</th>\n",
       "      <td>Less than HS</td>\n",
       "      <td>43.8</td>\n",
       "    </tr>\n",
       "    <tr>\n",
       "      <th>3</th>\n",
       "      <td>Less than HS</td>\n",
       "      <td>34.4</td>\n",
       "    </tr>\n",
       "    <tr>\n",
       "      <th>4</th>\n",
       "      <td>Less than HS</td>\n",
       "      <td>76.2</td>\n",
       "    </tr>\n",
       "    <tr>\n",
       "      <th>...</th>\n",
       "      <td>...</td>\n",
       "      <td>...</td>\n",
       "    </tr>\n",
       "    <tr>\n",
       "      <th>1167</th>\n",
       "      <td>Graduate</td>\n",
       "      <td>52.7</td>\n",
       "    </tr>\n",
       "    <tr>\n",
       "      <th>1168</th>\n",
       "      <td>Graduate</td>\n",
       "      <td>59.8</td>\n",
       "    </tr>\n",
       "    <tr>\n",
       "      <th>1169</th>\n",
       "      <td>Graduate</td>\n",
       "      <td>54.1</td>\n",
       "    </tr>\n",
       "    <tr>\n",
       "      <th>1170</th>\n",
       "      <td>Graduate</td>\n",
       "      <td>39.9</td>\n",
       "    </tr>\n",
       "    <tr>\n",
       "      <th>1171</th>\n",
       "      <td>Graduate</td>\n",
       "      <td>58.2</td>\n",
       "    </tr>\n",
       "  </tbody>\n",
       "</table>\n",
       "<p>1172 rows × 2 columns</p>\n",
       "</div>"
      ],
      "text/plain": [
       "            degree  value\n",
       "0     Less than HS   45.0\n",
       "1     Less than HS   26.0\n",
       "2     Less than HS   43.8\n",
       "3     Less than HS   34.4\n",
       "4     Less than HS   76.2\n",
       "...            ...    ...\n",
       "1167      Graduate   52.7\n",
       "1168      Graduate   59.8\n",
       "1169      Graduate   54.1\n",
       "1170      Graduate   39.9\n",
       "1171      Graduate   58.2\n",
       "\n",
       "[1172 rows x 2 columns]"
      ]
     },
     "execution_count": 14,
     "metadata": {},
     "output_type": "execute_result"
    }
   ],
   "source": [
    "#The dataset we are going to use for OLS\n",
    "#giving new name for dataset \"d\" as d_melt \n",
    "d_melt = d \n",
    "d_melt"
   ]
  },
  {
   "cell_type": "code",
   "execution_count": 15,
   "metadata": {},
   "outputs": [
    {
     "data": {
      "text/html": [
       "<table class=\"simpletable\">\n",
       "<caption>OLS Regression Results</caption>\n",
       "<tr>\n",
       "  <th>Dep. Variable:</th>          <td>value</td>      <th>  R-squared:         </th> <td>   0.016</td>\n",
       "</tr>\n",
       "<tr>\n",
       "  <th>Model:</th>                   <td>OLS</td>       <th>  Adj. R-squared:    </th> <td>   0.012</td>\n",
       "</tr>\n",
       "<tr>\n",
       "  <th>Method:</th>             <td>Least Squares</td>  <th>  F-statistic:       </th> <td>   4.619</td>\n",
       "</tr>\n",
       "<tr>\n",
       "  <th>Date:</th>             <td>Fri, 19 Nov 2021</td> <th>  Prob (F-statistic):</th>  <td>0.00106</td>\n",
       "</tr>\n",
       "<tr>\n",
       "  <th>Time:</th>                 <td>21:59:57</td>     <th>  Log-Likelihood:    </th> <td> -4837.1</td>\n",
       "</tr>\n",
       "<tr>\n",
       "  <th>No. Observations:</th>      <td>  1172</td>      <th>  AIC:               </th> <td>   9684.</td>\n",
       "</tr>\n",
       "<tr>\n",
       "  <th>Df Residuals:</th>          <td>  1167</td>      <th>  BIC:               </th> <td>   9709.</td>\n",
       "</tr>\n",
       "<tr>\n",
       "  <th>Df Model:</th>              <td>     4</td>      <th>                     </th>     <td> </td>   \n",
       "</tr>\n",
       "<tr>\n",
       "  <th>Covariance Type:</th>      <td>nonrobust</td>    <th>                     </th>     <td> </td>   \n",
       "</tr>\n",
       "</table>\n",
       "<table class=\"simpletable\">\n",
       "<tr>\n",
       "              <td></td>                 <th>coef</th>     <th>std err</th>      <th>t</th>      <th>P>|t|</th>  <th>[0.025</th>    <th>0.975]</th>  \n",
       "</tr>\n",
       "<tr>\n",
       "  <th>Intercept</th>                 <td>   42.2032</td> <td>    0.945</td> <td>   44.648</td> <td> 0.000</td> <td>   40.349</td> <td>   44.058</td>\n",
       "</tr>\n",
       "<tr>\n",
       "  <th>C(degree)[T.Graduate]</th>     <td>    1.4968</td> <td>    1.534</td> <td>    0.976</td> <td> 0.329</td> <td>   -1.512</td> <td>    4.506</td>\n",
       "</tr>\n",
       "<tr>\n",
       "  <th>C(degree)[T.HS]</th>           <td>   -2.0975</td> <td>    1.143</td> <td>   -1.834</td> <td> 0.067</td> <td>   -4.341</td> <td>    0.146</td>\n",
       "</tr>\n",
       "<tr>\n",
       "  <th>C(degree)[T.Jr Coll]</th>      <td>   -1.0063</td> <td>    1.796</td> <td>   -0.560</td> <td> 0.575</td> <td>   -4.529</td> <td>    2.517</td>\n",
       "</tr>\n",
       "<tr>\n",
       "  <th>C(degree)[T.Less than HS]</th> <td>   -5.5668</td> <td>    1.662</td> <td>   -3.350</td> <td> 0.001</td> <td>   -8.827</td> <td>   -2.306</td>\n",
       "</tr>\n",
       "</table>\n",
       "<table class=\"simpletable\">\n",
       "<tr>\n",
       "  <th>Omnibus:</th>       <td> 0.432</td> <th>  Durbin-Watson:     </th> <td>   1.984</td>\n",
       "</tr>\n",
       "<tr>\n",
       "  <th>Prob(Omnibus):</th> <td> 0.806</td> <th>  Jarque-Bera (JB):  </th> <td>   0.513</td>\n",
       "</tr>\n",
       "<tr>\n",
       "  <th>Skew:</th>          <td> 0.028</td> <th>  Prob(JB):          </th> <td>   0.774</td>\n",
       "</tr>\n",
       "<tr>\n",
       "  <th>Kurtosis:</th>      <td> 2.914</td> <th>  Cond. No.          </th> <td>    6.26</td>\n",
       "</tr>\n",
       "</table><br/><br/>Notes:<br/>[1] Standard Errors assume that the covariance matrix of the errors is correctly specified."
      ],
      "text/plain": [
       "<class 'statsmodels.iolib.summary.Summary'>\n",
       "\"\"\"\n",
       "                            OLS Regression Results                            \n",
       "==============================================================================\n",
       "Dep. Variable:                  value   R-squared:                       0.016\n",
       "Model:                            OLS   Adj. R-squared:                  0.012\n",
       "Method:                 Least Squares   F-statistic:                     4.619\n",
       "Date:                Fri, 19 Nov 2021   Prob (F-statistic):            0.00106\n",
       "Time:                        21:59:57   Log-Likelihood:                -4837.1\n",
       "No. Observations:                1172   AIC:                             9684.\n",
       "Df Residuals:                    1167   BIC:                             9709.\n",
       "Df Model:                           4                                         \n",
       "Covariance Type:            nonrobust                                         \n",
       "=============================================================================================\n",
       "                                coef    std err          t      P>|t|      [0.025      0.975]\n",
       "---------------------------------------------------------------------------------------------\n",
       "Intercept                    42.2032      0.945     44.648      0.000      40.349      44.058\n",
       "C(degree)[T.Graduate]         1.4968      1.534      0.976      0.329      -1.512       4.506\n",
       "C(degree)[T.HS]              -2.0975      1.143     -1.834      0.067      -4.341       0.146\n",
       "C(degree)[T.Jr Coll]         -1.0063      1.796     -0.560      0.575      -4.529       2.517\n",
       "C(degree)[T.Less than HS]    -5.5668      1.662     -3.350      0.001      -8.827      -2.306\n",
       "==============================================================================\n",
       "Omnibus:                        0.432   Durbin-Watson:                   1.984\n",
       "Prob(Omnibus):                  0.806   Jarque-Bera (JB):                0.513\n",
       "Skew:                           0.028   Prob(JB):                        0.774\n",
       "Kurtosis:                       2.914   Cond. No.                         6.26\n",
       "==============================================================================\n",
       "\n",
       "Notes:\n",
       "[1] Standard Errors assume that the covariance matrix of the errors is correctly specified.\n",
       "\"\"\""
      ]
     },
     "execution_count": 15,
     "metadata": {},
     "output_type": "execute_result"
    }
   ],
   "source": [
    "#OLS MODEL\n",
    "#Y axis is \"value\", dependent variable, finding coeffcient of columb \"degree\" independent variable\n",
    "#R-squared is the measurement of how much of the independent variable is explained by changes in our dependent variables.\n",
    "#In percentage terms, we have 0.016 would mean our model explains 1.6% of the change in our ‘value’ variable\n",
    "\n",
    "#looking at data of p values, if we set our significant level to 95%,  we only reject \"Less than HS\" H0hypothesis.\n",
    "#H0:there is no correlation. Changes in the independent variable are associated with changes in the dependent variable at the population level.\n",
    "#H1: there is correlation\n",
    "\n",
    "\n",
    "\n",
    "model = ols('value ~ C(degree)', data= d_melt).fit()   #value is y, finding coeffcient of columb degree\n",
    "model.summary()"
   ]
  },
  {
   "cell_type": "code",
   "execution_count": 16,
   "metadata": {},
   "outputs": [
    {
     "name": "stdout",
     "output_type": "stream",
     "text": [
      "                  sum_sq      df         F    PR(>F)\n",
      "C(degree)    4176.452688     4.0  4.618904  0.001056\n",
      "Residual   263802.838942  1167.0       NaN       NaN\n"
     ]
    }
   ],
   "source": [
    "#Anova Model\n",
    "#sum_sq: SSG(sum square between group)=4176, measures the variability between groups\n",
    "#sun_sq: SSE(sum square residual)= SST(sum square total) - SSG = 263802, measures the variablity within gorups\n",
    "anova_table=sm.stats.anova_lm(model,typ=2)  #type explaination https://www.r-bloggers.com/2011/03/anova-%e2%80%93-type-iiiiii-ss-explained/\n",
    "print(anova_table)"
   ]
  },
  {
   "cell_type": "code",
   "execution_count": 17,
   "metadata": {},
   "outputs": [
    {
     "name": "stdout",
     "output_type": "stream",
     "text": [
      "                  sum_sq      df         F    PR(>F)     EtaSq\n",
      "C(degree)    4176.452688     4.0  4.618904  0.001056  0.015585\n",
      "Residual   263802.838942  1167.0       NaN       NaN       Nah\n"
     ]
    }
   ],
   "source": [
    "# Effect Size Calculations\n",
    "esq_sm = anova_table['sum_sq'][0]/(anova_table['sum_sq'][0]+anova_table['sum_sq'][1])\n",
    "anova_table['EtaSq']=[esq_sm,'Nah']\n",
    "print(anova_table)"
   ]
  },
  {
   "cell_type": "code",
   "execution_count": 18,
   "metadata": {},
   "outputs": [
    {
     "data": {
      "text/html": [
       "<div>\n",
       "<style scoped>\n",
       "    .dataframe tbody tr th:only-of-type {\n",
       "        vertical-align: middle;\n",
       "    }\n",
       "\n",
       "    .dataframe tbody tr th {\n",
       "        vertical-align: top;\n",
       "    }\n",
       "\n",
       "    .dataframe thead th {\n",
       "        text-align: right;\n",
       "    }\n",
       "</style>\n",
       "<table border=\"1\" class=\"dataframe\">\n",
       "  <thead>\n",
       "    <tr style=\"text-align: right;\">\n",
       "      <th></th>\n",
       "      <th>coef</th>\n",
       "      <th>std err</th>\n",
       "      <th>t</th>\n",
       "      <th>P&gt;|t|</th>\n",
       "      <th>Conf. Int. Low</th>\n",
       "      <th>Conf. Int. Upp.</th>\n",
       "      <th>pvalue-hs</th>\n",
       "      <th>reject-hs</th>\n",
       "    </tr>\n",
       "  </thead>\n",
       "  <tbody>\n",
       "    <tr>\n",
       "      <th>Graduate-Bachelor's</th>\n",
       "      <td>1.496838</td>\n",
       "      <td>1.533586</td>\n",
       "      <td>0.976038</td>\n",
       "      <td>0.329248</td>\n",
       "      <td>-1.512057</td>\n",
       "      <td>4.505733</td>\n",
       "      <td>0.698223</td>\n",
       "      <td>False</td>\n",
       "    </tr>\n",
       "    <tr>\n",
       "      <th>HS-Bachelor's</th>\n",
       "      <td>-2.097484</td>\n",
       "      <td>1.143460</td>\n",
       "      <td>-1.834331</td>\n",
       "      <td>0.066859</td>\n",
       "      <td>-4.340952</td>\n",
       "      <td>0.145984</td>\n",
       "      <td>0.292485</td>\n",
       "      <td>False</td>\n",
       "    </tr>\n",
       "    <tr>\n",
       "      <th>Jr Coll-Bachelor's</th>\n",
       "      <td>-1.006255</td>\n",
       "      <td>1.795528</td>\n",
       "      <td>-0.560423</td>\n",
       "      <td>0.575299</td>\n",
       "      <td>-4.529079</td>\n",
       "      <td>2.516569</td>\n",
       "      <td>0.760113</td>\n",
       "      <td>False</td>\n",
       "    </tr>\n",
       "    <tr>\n",
       "      <th>Less than HS-Bachelor's</th>\n",
       "      <td>-5.566798</td>\n",
       "      <td>1.661832</td>\n",
       "      <td>-3.349796</td>\n",
       "      <td>0.000835</td>\n",
       "      <td>-8.827311</td>\n",
       "      <td>-2.306286</td>\n",
       "      <td>0.007486</td>\n",
       "      <td>True</td>\n",
       "    </tr>\n",
       "    <tr>\n",
       "      <th>HS-Graduate</th>\n",
       "      <td>-3.594322</td>\n",
       "      <td>1.368362</td>\n",
       "      <td>-2.626733</td>\n",
       "      <td>0.008734</td>\n",
       "      <td>-6.279048</td>\n",
       "      <td>-0.909597</td>\n",
       "      <td>0.067772</td>\n",
       "      <td>False</td>\n",
       "    </tr>\n",
       "    <tr>\n",
       "      <th>Jr Coll-Graduate</th>\n",
       "      <td>-2.503093</td>\n",
       "      <td>1.946493</td>\n",
       "      <td>-1.285950</td>\n",
       "      <td>0.198716</td>\n",
       "      <td>-6.322110</td>\n",
       "      <td>1.315924</td>\n",
       "      <td>0.587763</td>\n",
       "      <td>False</td>\n",
       "    </tr>\n",
       "    <tr>\n",
       "      <th>Less than HS-Graduate</th>\n",
       "      <td>-7.063636</td>\n",
       "      <td>1.823897</td>\n",
       "      <td>-3.872826</td>\n",
       "      <td>0.000114</td>\n",
       "      <td>-10.642120</td>\n",
       "      <td>-3.485153</td>\n",
       "      <td>0.001135</td>\n",
       "      <td>True</td>\n",
       "    </tr>\n",
       "    <tr>\n",
       "      <th>Jr Coll-HS</th>\n",
       "      <td>1.091230</td>\n",
       "      <td>1.656638</td>\n",
       "      <td>0.658701</td>\n",
       "      <td>0.510218</td>\n",
       "      <td>-2.159092</td>\n",
       "      <td>4.341551</td>\n",
       "      <td>0.760113</td>\n",
       "      <td>False</td>\n",
       "    </tr>\n",
       "    <tr>\n",
       "      <th>Less than HS-HS</th>\n",
       "      <td>-3.469314</td>\n",
       "      <td>1.510700</td>\n",
       "      <td>-2.296494</td>\n",
       "      <td>0.021824</td>\n",
       "      <td>-6.433306</td>\n",
       "      <td>-0.505322</td>\n",
       "      <td>0.143123</td>\n",
       "      <td>False</td>\n",
       "    </tr>\n",
       "    <tr>\n",
       "      <th>Less than HS-Jr Coll</th>\n",
       "      <td>-4.560544</td>\n",
       "      <td>2.049057</td>\n",
       "      <td>-2.225679</td>\n",
       "      <td>0.026226</td>\n",
       "      <td>-8.580791</td>\n",
       "      <td>-0.540296</td>\n",
       "      <td>0.147393</td>\n",
       "      <td>False</td>\n",
       "    </tr>\n",
       "  </tbody>\n",
       "</table>\n",
       "</div>"
      ],
      "text/plain": [
       "                             coef   std err         t     P>|t|  \\\n",
       "Graduate-Bachelor's      1.496838  1.533586  0.976038  0.329248   \n",
       "HS-Bachelor's           -2.097484  1.143460 -1.834331  0.066859   \n",
       "Jr Coll-Bachelor's      -1.006255  1.795528 -0.560423  0.575299   \n",
       "Less than HS-Bachelor's -5.566798  1.661832 -3.349796  0.000835   \n",
       "HS-Graduate             -3.594322  1.368362 -2.626733  0.008734   \n",
       "Jr Coll-Graduate        -2.503093  1.946493 -1.285950  0.198716   \n",
       "Less than HS-Graduate   -7.063636  1.823897 -3.872826  0.000114   \n",
       "Jr Coll-HS               1.091230  1.656638  0.658701  0.510218   \n",
       "Less than HS-HS         -3.469314  1.510700 -2.296494  0.021824   \n",
       "Less than HS-Jr Coll    -4.560544  2.049057 -2.225679  0.026226   \n",
       "\n",
       "                         Conf. Int. Low  Conf. Int. Upp.  pvalue-hs  reject-hs  \n",
       "Graduate-Bachelor's           -1.512057         4.505733   0.698223      False  \n",
       "HS-Bachelor's                 -4.340952         0.145984   0.292485      False  \n",
       "Jr Coll-Bachelor's            -4.529079         2.516569   0.760113      False  \n",
       "Less than HS-Bachelor's       -8.827311        -2.306286   0.007486       True  \n",
       "HS-Graduate                   -6.279048        -0.909597   0.067772      False  \n",
       "Jr Coll-Graduate              -6.322110         1.315924   0.587763      False  \n",
       "Less than HS-Graduate        -10.642120        -3.485153   0.001135       True  \n",
       "Jr Coll-HS                    -2.159092         4.341551   0.760113      False  \n",
       "Less than HS-HS               -6.433306        -0.505322   0.143123      False  \n",
       "Less than HS-Jr Coll          -8.580791        -0.540296   0.147393      False  "
      ]
     },
     "execution_count": 18,
     "metadata": {},
     "output_type": "execute_result"
    }
   ],
   "source": [
    "#one-way ANOVA: multiple pairwise comparisons\n",
    "#The pairwise t-test consists of calculating multiple t-test between all possible combinations of groups\n",
    "#alpha= alpha/k , k(number of groups, our case is 5.    result:alpha = 0.05/5=0.01\n",
    "\n",
    "pair_t= model.t_test_pairwise('C(degree)')\n",
    "pair_t.result_frame"
   ]
  },
  {
   "cell_type": "code",
   "execution_count": 19,
   "metadata": {},
   "outputs": [
    {
     "name": "stdout",
     "output_type": "stream",
     "text": [
      "      Multiple Comparison of Means - Tukey HSD, FWER=0.05      \n",
      "===============================================================\n",
      "  group1      group2    meandiff p-adj   lower    upper  reject\n",
      "---------------------------------------------------------------\n",
      "Bachelor's     Graduate   1.4968 0.8514   -2.693  5.6867  False\n",
      "Bachelor's           HS  -2.0975 0.3547  -5.2215  1.0265  False\n",
      "Bachelor's      Jr Coll  -1.0063    0.9  -5.9117  3.8992  False\n",
      "Bachelor's Less than HS  -5.5668 0.0074  -10.107 -1.0266   True\n",
      "  Graduate           HS  -3.5943 0.0664  -7.3327  0.1441  False\n",
      "  Graduate      Jr Coll  -2.5031 0.6756   -7.821  2.8148  False\n",
      "  Graduate Less than HS  -7.0636 0.0011 -12.0466 -2.0807   True\n",
      "        HS      Jr Coll   1.0912    0.9  -3.4348  5.6172  False\n",
      "        HS Less than HS  -3.4693 0.1466  -7.5966   0.658  False\n",
      "   Jr Coll Less than HS  -4.5605 0.1711 -10.1587  1.0376  False\n",
      "---------------------------------------------------------------\n"
     ]
    }
   ],
   "source": [
    "#The Tukey HSD (\"honestly significant difference\" or \"honest significant difference\") test \n",
    "#is a statistical tool used to determine if the relationship between two sets of data is statistically significant \n",
    "#parameters: https://www.statsmodels.org/dev/generated/statsmodels.sandbox.stats.multicomp.MultiComparison.html\n",
    "mc= sm.stats.multicomp.MultiComparison(d_melt['value'],d_melt['degree'])\n",
    "mc_results=mc.tukeyhsd()\n",
    "print(mc_results)"
   ]
  },
  {
   "cell_type": "code",
   "execution_count": 20,
   "metadata": {},
   "outputs": [
    {
     "data": {
      "image/png": "[encoded data removed]",
      "text/plain": [
       "<Figure size 432x288 with 1 Axes>"
      ]
     },
     "metadata": {
      "needs_background": "light"
     },
     "output_type": "display_data"
    }
   ],
   "source": [
    "#Assumption checks               NNNNNNNNNNORMALITY\n",
    "#normality\n",
    "#using Q-Q plot\n",
    "#line   's':standardized\n",
    "#'45':45 degree line\n",
    "# a Q–Q (quantile-quantile) plot is a probability plot, \n",
    "#which is a graphical method for comparing two probability distributions by plotting their quantiles against each other.\n",
    "\n",
    "\n",
    "#result: looking very normal too\n",
    "\n",
    "res= model.resid   # stat function.  resid= residual\n",
    "#Each residual is the difference between a entered value and the mean of all values for that group. \n",
    "fig=sm.qqplot(res,line='s') #"
   ]
  },
  {
   "cell_type": "code",
   "execution_count": 21,
   "metadata": {},
   "outputs": [
    {
     "name": "stderr",
     "output_type": "stream",
     "text": [
      "C:\\Users\\prita\\anaconda3\\lib\\site-packages\\seaborn\\distributions.py:2551: FutureWarning: `distplot` is a deprecated function and will be removed in a future version. Please adapt your code to use either `displot` (a figure-level function with similar flexibility) or `histplot` (an axes-level function for histograms).\n",
      "  warnings.warn(msg, FutureWarning)\n"
     ]
    },
    {
     "data": {
      "text/plain": [
       "<AxesSubplot:ylabel='Density'>"
      ]
     },
     "execution_count": 21,
     "metadata": {},
     "output_type": "execute_result"
    },
    {
     "data": {
      "image/png": "[encoded data removed]",
      "text/plain": [
       "<Figure size 432x288 with 1 Axes>"
      ]
     },
     "metadata": {
      "needs_background": "light"
     },
     "output_type": "display_data"
    }
   ],
   "source": [
    "#Assumption checks               NNNNNNNNNNORMALITY  \n",
    "#using histogram\n",
    "\n",
    "#result also looking normal\n",
    "\n",
    "\n",
    "import seaborn as sns\n",
    "sns.distplot(res,bins='auto',hist=True)"
   ]
  },
  {
   "cell_type": "code",
   "execution_count": 22,
   "metadata": {},
   "outputs": [
    {
     "name": "stdout",
     "output_type": "stream",
     "text": [
      "0.9983659982681274 0.33162370324134827\n"
     ]
    }
   ],
   "source": [
    "#Assumption checks               NNNNNNNNNNORMALITY\n",
    "#using shaprio-wilk test\n",
    "\n",
    "#H0: the data are normally distributed. \n",
    "#h1:not nomrally distributed\n",
    "#Alpha= 0.05\n",
    "\n",
    "import scipy.stats as stats\n",
    "\n",
    "\n",
    "w,pvalue= stats.shapiro(model.resid)                    #w is t statstic, pvalue is pvalue\n",
    "print(w,pvalue)             #we cant not reject H0.  THere is strong evidence that the data are normally distributed. "
   ]
  },
  {
   "cell_type": "code",
   "execution_count": 23,
   "metadata": {},
   "outputs": [
    {
     "name": "stdout",
     "output_type": "stream",
     "text": [
      "bartlett's test:         w:17.742400811435832,  pvalue:=0.0013856596959012338\n",
      "levene's test:         w:5.76170875894063,  pvalue:=0.00013618622296670516\n"
     ]
    }
   ],
   "source": [
    "#Assumption checks              Homogeneity for equal variances\n",
    "#bartlett's test\n",
    "#Levene'test\n",
    "#H0 = no difference in variances between the groups.    var1 = var 2= var3 = ...\n",
    "#H1: var1 != !var 2= !var3 = ...\n",
    "\n",
    "\n",
    "#bartlett'stest\n",
    "w,pvalue= stats.bartlett(d_melt['value'][d_melt['degree']=='Less than HS'],\n",
    "                        d_melt['value'][d_melt['degree']=='HS'],\n",
    "                        d_melt['value'][d_melt['degree']=='Jr Coll'],\n",
    "                        d_melt['value'][d_melt['degree']==\"Bachelor's\"],\n",
    "                        d_melt['value'][d_melt['degree']=='Graduate'])\n",
    "\n",
    "\n",
    "print(f\"bartlett's test:         w:{w},  pvalue:={pvalue}\")\n",
    "\n",
    "\n",
    "# levene variance test, method 2\n",
    "w,pvalue=  stats.levene(d_melt['value'][d_melt['degree']=='Less than HS'],\n",
    "                        d_melt['value'][d_melt['degree']=='HS'],\n",
    "                        d_melt['value'][d_melt['degree']=='Jr Coll'],\n",
    "                        d_melt['value'][d_melt['degree']==\"Bachelor's\"],\n",
    "                        d_melt['value'][d_melt['degree']=='Graduate'])\n",
    "print(f\"levene's test:         w:{w},  pvalue:={pvalue}\")\n",
    "\n",
    "\n",
    "\n",
    "\n",
    "# we reject H0.  there is strong evidence there are variances between groups."
   ]
  },
  {
   "cell_type": "code",
   "execution_count": 24,
   "metadata": {},
   "outputs": [
    {
     "data": {
      "text/plain": [
       "'LETS DO WITHOUT USING THE LIBRARY'"
      ]
     },
     "execution_count": 24,
     "metadata": {},
     "output_type": "execute_result"
    }
   ],
   "source": [
    "'''LETS DO WITHOUT USING THE LIBRARY'''"
   ]
  },
  {
   "cell_type": "code",
   "execution_count": 25,
   "metadata": {},
   "outputs": [
    {
     "data": {
      "text/html": [
       "<div>\n",
       "<style scoped>\n",
       "    .dataframe tbody tr th:only-of-type {\n",
       "        vertical-align: middle;\n",
       "    }\n",
       "\n",
       "    .dataframe tbody tr th {\n",
       "        vertical-align: top;\n",
       "    }\n",
       "\n",
       "    .dataframe thead th {\n",
       "        text-align: right;\n",
       "    }\n",
       "</style>\n",
       "<table border=\"1\" class=\"dataframe\">\n",
       "  <thead>\n",
       "    <tr style=\"text-align: right;\">\n",
       "      <th></th>\n",
       "      <th>degree</th>\n",
       "      <th>value</th>\n",
       "    </tr>\n",
       "  </thead>\n",
       "  <tbody>\n",
       "    <tr>\n",
       "      <th>0</th>\n",
       "      <td>Less than HS</td>\n",
       "      <td>45.0</td>\n",
       "    </tr>\n",
       "    <tr>\n",
       "      <th>1</th>\n",
       "      <td>Less than HS</td>\n",
       "      <td>26.0</td>\n",
       "    </tr>\n",
       "    <tr>\n",
       "      <th>2</th>\n",
       "      <td>Less than HS</td>\n",
       "      <td>43.8</td>\n",
       "    </tr>\n",
       "    <tr>\n",
       "      <th>3</th>\n",
       "      <td>Less than HS</td>\n",
       "      <td>34.4</td>\n",
       "    </tr>\n",
       "    <tr>\n",
       "      <th>4</th>\n",
       "      <td>Less than HS</td>\n",
       "      <td>76.2</td>\n",
       "    </tr>\n",
       "    <tr>\n",
       "      <th>...</th>\n",
       "      <td>...</td>\n",
       "      <td>...</td>\n",
       "    </tr>\n",
       "    <tr>\n",
       "      <th>1167</th>\n",
       "      <td>Graduate</td>\n",
       "      <td>52.7</td>\n",
       "    </tr>\n",
       "    <tr>\n",
       "      <th>1168</th>\n",
       "      <td>Graduate</td>\n",
       "      <td>59.8</td>\n",
       "    </tr>\n",
       "    <tr>\n",
       "      <th>1169</th>\n",
       "      <td>Graduate</td>\n",
       "      <td>54.1</td>\n",
       "    </tr>\n",
       "    <tr>\n",
       "      <th>1170</th>\n",
       "      <td>Graduate</td>\n",
       "      <td>39.9</td>\n",
       "    </tr>\n",
       "    <tr>\n",
       "      <th>1171</th>\n",
       "      <td>Graduate</td>\n",
       "      <td>58.2</td>\n",
       "    </tr>\n",
       "  </tbody>\n",
       "</table>\n",
       "<p>1172 rows × 2 columns</p>\n",
       "</div>"
      ],
      "text/plain": [
       "            degree  value\n",
       "0     Less than HS   45.0\n",
       "1     Less than HS   26.0\n",
       "2     Less than HS   43.8\n",
       "3     Less than HS   34.4\n",
       "4     Less than HS   76.2\n",
       "...            ...    ...\n",
       "1167      Graduate   52.7\n",
       "1168      Graduate   59.8\n",
       "1169      Graduate   54.1\n",
       "1170      Graduate   39.9\n",
       "1171      Graduate   58.2\n",
       "\n",
       "[1172 rows x 2 columns]"
      ]
     },
     "execution_count": 25,
     "metadata": {},
     "output_type": "execute_result"
    }
   ],
   "source": [
    "d"
   ]
  },
  {
   "cell_type": "code",
   "execution_count": 26,
   "metadata": {},
   "outputs": [
    {
     "data": {
      "text/plain": [
       "40.7659556313993"
      ]
     },
     "execution_count": 26,
     "metadata": {},
     "output_type": "execute_result"
    }
   ],
   "source": [
    "d['mean']=d.mean()\n",
    "d\n",
    "mean=d['value'].mean()\n",
    "mean"
   ]
  },
  {
   "cell_type": "code",
   "execution_count": 27,
   "metadata": {},
   "outputs": [
    {
     "data": {
      "text/html": [
       "<div>\n",
       "<style scoped>\n",
       "    .dataframe tbody tr th:only-of-type {\n",
       "        vertical-align: middle;\n",
       "    }\n",
       "\n",
       "    .dataframe tbody tr th {\n",
       "        vertical-align: top;\n",
       "    }\n",
       "\n",
       "    .dataframe thead th {\n",
       "        text-align: right;\n",
       "    }\n",
       "</style>\n",
       "<table border=\"1\" class=\"dataframe\">\n",
       "  <thead>\n",
       "    <tr style=\"text-align: right;\">\n",
       "      <th></th>\n",
       "      <th>degree</th>\n",
       "      <th>value</th>\n",
       "      <th>mean</th>\n",
       "    </tr>\n",
       "  </thead>\n",
       "  <tbody>\n",
       "    <tr>\n",
       "      <th>0</th>\n",
       "      <td>Less than HS</td>\n",
       "      <td>45.0</td>\n",
       "      <td>40.765956</td>\n",
       "    </tr>\n",
       "    <tr>\n",
       "      <th>1</th>\n",
       "      <td>Less than HS</td>\n",
       "      <td>26.0</td>\n",
       "      <td>40.765956</td>\n",
       "    </tr>\n",
       "    <tr>\n",
       "      <th>2</th>\n",
       "      <td>Less than HS</td>\n",
       "      <td>43.8</td>\n",
       "      <td>40.765956</td>\n",
       "    </tr>\n",
       "    <tr>\n",
       "      <th>3</th>\n",
       "      <td>Less than HS</td>\n",
       "      <td>34.4</td>\n",
       "      <td>40.765956</td>\n",
       "    </tr>\n",
       "    <tr>\n",
       "      <th>4</th>\n",
       "      <td>Less than HS</td>\n",
       "      <td>76.2</td>\n",
       "      <td>40.765956</td>\n",
       "    </tr>\n",
       "    <tr>\n",
       "      <th>...</th>\n",
       "      <td>...</td>\n",
       "      <td>...</td>\n",
       "      <td>...</td>\n",
       "    </tr>\n",
       "    <tr>\n",
       "      <th>1167</th>\n",
       "      <td>Graduate</td>\n",
       "      <td>52.7</td>\n",
       "      <td>40.765956</td>\n",
       "    </tr>\n",
       "    <tr>\n",
       "      <th>1168</th>\n",
       "      <td>Graduate</td>\n",
       "      <td>59.8</td>\n",
       "      <td>40.765956</td>\n",
       "    </tr>\n",
       "    <tr>\n",
       "      <th>1169</th>\n",
       "      <td>Graduate</td>\n",
       "      <td>54.1</td>\n",
       "      <td>40.765956</td>\n",
       "    </tr>\n",
       "    <tr>\n",
       "      <th>1170</th>\n",
       "      <td>Graduate</td>\n",
       "      <td>39.9</td>\n",
       "      <td>40.765956</td>\n",
       "    </tr>\n",
       "    <tr>\n",
       "      <th>1171</th>\n",
       "      <td>Graduate</td>\n",
       "      <td>58.2</td>\n",
       "      <td>40.765956</td>\n",
       "    </tr>\n",
       "  </tbody>\n",
       "</table>\n",
       "<p>1172 rows × 3 columns</p>\n",
       "</div>"
      ],
      "text/plain": [
       "            degree  value       mean\n",
       "0     Less than HS   45.0  40.765956\n",
       "1     Less than HS   26.0  40.765956\n",
       "2     Less than HS   43.8  40.765956\n",
       "3     Less than HS   34.4  40.765956\n",
       "4     Less than HS   76.2  40.765956\n",
       "...            ...    ...        ...\n",
       "1167      Graduate   52.7  40.765956\n",
       "1168      Graduate   59.8  40.765956\n",
       "1169      Graduate   54.1  40.765956\n",
       "1170      Graduate   39.9  40.765956\n",
       "1171      Graduate   58.2  40.765956\n",
       "\n",
       "[1172 rows x 3 columns]"
      ]
     },
     "execution_count": 27,
     "metadata": {},
     "output_type": "execute_result"
    }
   ],
   "source": [
    "d['mean'].fillna(value=mean,inplace=True)\n",
    "d"
   ]
  },
  {
   "cell_type": "code",
   "execution_count": 28,
   "metadata": {},
   "outputs": [],
   "source": [
    "d['std_dev']=d['value'].std()"
   ]
  },
  {
   "cell_type": "code",
   "execution_count": 29,
   "metadata": {},
   "outputs": [
    {
     "data": {
      "text/html": [
       "<div>\n",
       "<style scoped>\n",
       "    .dataframe tbody tr th:only-of-type {\n",
       "        vertical-align: middle;\n",
       "    }\n",
       "\n",
       "    .dataframe tbody tr th {\n",
       "        vertical-align: top;\n",
       "    }\n",
       "\n",
       "    .dataframe thead th {\n",
       "        text-align: right;\n",
       "    }\n",
       "</style>\n",
       "<table border=\"1\" class=\"dataframe\">\n",
       "  <thead>\n",
       "    <tr style=\"text-align: right;\">\n",
       "      <th></th>\n",
       "      <th>degree</th>\n",
       "      <th>value</th>\n",
       "      <th>mean</th>\n",
       "      <th>std_dev</th>\n",
       "    </tr>\n",
       "  </thead>\n",
       "  <tbody>\n",
       "    <tr>\n",
       "      <th>0</th>\n",
       "      <td>Less than HS</td>\n",
       "      <td>45.0</td>\n",
       "      <td>40.765956</td>\n",
       "      <td>15.127674</td>\n",
       "    </tr>\n",
       "    <tr>\n",
       "      <th>1</th>\n",
       "      <td>Less than HS</td>\n",
       "      <td>26.0</td>\n",
       "      <td>40.765956</td>\n",
       "      <td>15.127674</td>\n",
       "    </tr>\n",
       "    <tr>\n",
       "      <th>2</th>\n",
       "      <td>Less than HS</td>\n",
       "      <td>43.8</td>\n",
       "      <td>40.765956</td>\n",
       "      <td>15.127674</td>\n",
       "    </tr>\n",
       "    <tr>\n",
       "      <th>3</th>\n",
       "      <td>Less than HS</td>\n",
       "      <td>34.4</td>\n",
       "      <td>40.765956</td>\n",
       "      <td>15.127674</td>\n",
       "    </tr>\n",
       "    <tr>\n",
       "      <th>4</th>\n",
       "      <td>Less than HS</td>\n",
       "      <td>76.2</td>\n",
       "      <td>40.765956</td>\n",
       "      <td>15.127674</td>\n",
       "    </tr>\n",
       "    <tr>\n",
       "      <th>...</th>\n",
       "      <td>...</td>\n",
       "      <td>...</td>\n",
       "      <td>...</td>\n",
       "      <td>...</td>\n",
       "    </tr>\n",
       "    <tr>\n",
       "      <th>1167</th>\n",
       "      <td>Graduate</td>\n",
       "      <td>52.7</td>\n",
       "      <td>40.765956</td>\n",
       "      <td>15.127674</td>\n",
       "    </tr>\n",
       "    <tr>\n",
       "      <th>1168</th>\n",
       "      <td>Graduate</td>\n",
       "      <td>59.8</td>\n",
       "      <td>40.765956</td>\n",
       "      <td>15.127674</td>\n",
       "    </tr>\n",
       "    <tr>\n",
       "      <th>1169</th>\n",
       "      <td>Graduate</td>\n",
       "      <td>54.1</td>\n",
       "      <td>40.765956</td>\n",
       "      <td>15.127674</td>\n",
       "    </tr>\n",
       "    <tr>\n",
       "      <th>1170</th>\n",
       "      <td>Graduate</td>\n",
       "      <td>39.9</td>\n",
       "      <td>40.765956</td>\n",
       "      <td>15.127674</td>\n",
       "    </tr>\n",
       "    <tr>\n",
       "      <th>1171</th>\n",
       "      <td>Graduate</td>\n",
       "      <td>58.2</td>\n",
       "      <td>40.765956</td>\n",
       "      <td>15.127674</td>\n",
       "    </tr>\n",
       "  </tbody>\n",
       "</table>\n",
       "<p>1172 rows × 4 columns</p>\n",
       "</div>"
      ],
      "text/plain": [
       "            degree  value       mean    std_dev\n",
       "0     Less than HS   45.0  40.765956  15.127674\n",
       "1     Less than HS   26.0  40.765956  15.127674\n",
       "2     Less than HS   43.8  40.765956  15.127674\n",
       "3     Less than HS   34.4  40.765956  15.127674\n",
       "4     Less than HS   76.2  40.765956  15.127674\n",
       "...            ...    ...        ...        ...\n",
       "1167      Graduate   52.7  40.765956  15.127674\n",
       "1168      Graduate   59.8  40.765956  15.127674\n",
       "1169      Graduate   54.1  40.765956  15.127674\n",
       "1170      Graduate   39.9  40.765956  15.127674\n",
       "1171      Graduate   58.2  40.765956  15.127674\n",
       "\n",
       "[1172 rows x 4 columns]"
      ]
     },
     "execution_count": 29,
     "metadata": {},
     "output_type": "execute_result"
    }
   ],
   "source": [
    "d"
   ]
  },
  {
   "cell_type": "code",
   "execution_count": 30,
   "metadata": {},
   "outputs": [
    {
     "data": {
      "text/plain": [
       "40.765955631400416"
      ]
     },
     "execution_count": 30,
     "metadata": {},
     "output_type": "execute_result"
    }
   ],
   "source": [
    "total_mean=d['mean'].mean()\n",
    "total_std_dev=d['std_dev'].mean()\n",
    "total_mean"
   ]
  },
  {
   "cell_type": "code",
   "execution_count": 31,
   "metadata": {},
   "outputs": [
    {
     "data": {
      "text/plain": [
       "1167"
      ]
     },
     "execution_count": 31,
     "metadata": {},
     "output_type": "execute_result"
    }
   ],
   "source": [
    "df_group=5-1\n",
    "df_total=1172-1\n",
    "df_error= df_total-df_group\n",
    "df_error\n"
   ]
  },
  {
   "cell_type": "code",
   "execution_count": 32,
   "metadata": {},
   "outputs": [
    {
     "name": "stdout",
     "output_type": "stream",
     "text": [
      "degree  index  Bachelor's  Graduate  HS  Jr Coll  Less than HS\n",
      "0           0         NaN       NaN NaN      NaN          45.0\n",
      "1           1         NaN       NaN NaN      NaN          26.0\n",
      "2           2         NaN       NaN NaN      NaN          43.8\n",
      "3           3         NaN       NaN NaN      NaN          34.4\n",
      "4           4         NaN       NaN NaN      NaN          76.2\n",
      "...       ...         ...       ...  ..      ...           ...\n",
      "1167     1167         NaN      52.7 NaN      NaN           NaN\n",
      "1168     1168         NaN      59.8 NaN      NaN           NaN\n",
      "1169     1169         NaN      54.1 NaN      NaN           NaN\n",
      "1170     1170         NaN      39.9 NaN      NaN           NaN\n",
      "1171     1171         NaN      58.2 NaN      NaN           NaN\n",
      "\n",
      "[1172 rows x 6 columns]\n"
     ]
    }
   ],
   "source": [
    "d_pivot=pd.DataFrame(d_pivot)\n",
    "print(d_pivot)\n",
    "# d_pivot=d_pivot.dropna(how='any')\n",
    "bachelor=d_pivot['Bachelor\\'s'].mean()\n",
    "bachelor\n",
    "graduate=d_pivot['Graduate'].mean()\n",
    "hs=d_pivot['HS'].mean()\n",
    "jr_coll=d_pivot['Jr Coll'].mean()\n",
    "less_than_hs=d_pivot['Less than HS'].mean()\n"
   ]
  },
  {
   "cell_type": "code",
   "execution_count": 33,
   "metadata": {},
   "outputs": [
    {
     "data": {
      "text/plain": [
       "degree\n",
       "index           1172\n",
       "Bachelor's       253\n",
       "Graduate         155\n",
       "HS               546\n",
       "Jr Coll           97\n",
       "Less than HS     121\n",
       "dtype: int64"
      ]
     },
     "execution_count": 33,
     "metadata": {},
     "output_type": "execute_result"
    }
   ],
   "source": [
    "d_pivot.count()"
   ]
  },
  {
   "cell_type": "code",
   "execution_count": 34,
   "metadata": {},
   "outputs": [],
   "source": [
    "s_S_G=(253*(bachelor-total_mean)**2)+(155*(graduate-total_mean)**2)+(546*(hs-total_mean)**2)+(97*(jr_coll-total_mean)**2)+(121*(less_than_hs-total_mean)**2)"
   ]
  },
  {
   "cell_type": "code",
   "execution_count": 35,
   "metadata": {},
   "outputs": [
    {
     "data": {
      "text/plain": [
       "4176.452687904745"
      ]
     },
     "execution_count": 35,
     "metadata": {},
     "output_type": "execute_result"
    }
   ],
   "source": [
    "s_S_G"
   ]
  },
  {
   "cell_type": "code",
   "execution_count": 36,
   "metadata": {},
   "outputs": [
    {
     "data": {
      "text/html": [
       "<div>\n",
       "<style scoped>\n",
       "    .dataframe tbody tr th:only-of-type {\n",
       "        vertical-align: middle;\n",
       "    }\n",
       "\n",
       "    .dataframe tbody tr th {\n",
       "        vertical-align: top;\n",
       "    }\n",
       "\n",
       "    .dataframe thead th {\n",
       "        text-align: right;\n",
       "    }\n",
       "</style>\n",
       "<table border=\"1\" class=\"dataframe\">\n",
       "  <thead>\n",
       "    <tr style=\"text-align: right;\">\n",
       "      <th></th>\n",
       "      <th>degree</th>\n",
       "      <th>value</th>\n",
       "      <th>mean</th>\n",
       "      <th>std_dev</th>\n",
       "    </tr>\n",
       "  </thead>\n",
       "  <tbody>\n",
       "    <tr>\n",
       "      <th>0</th>\n",
       "      <td>Less than HS</td>\n",
       "      <td>45.0</td>\n",
       "      <td>40.765956</td>\n",
       "      <td>15.127674</td>\n",
       "    </tr>\n",
       "    <tr>\n",
       "      <th>1</th>\n",
       "      <td>Less than HS</td>\n",
       "      <td>26.0</td>\n",
       "      <td>40.765956</td>\n",
       "      <td>15.127674</td>\n",
       "    </tr>\n",
       "    <tr>\n",
       "      <th>2</th>\n",
       "      <td>Less than HS</td>\n",
       "      <td>43.8</td>\n",
       "      <td>40.765956</td>\n",
       "      <td>15.127674</td>\n",
       "    </tr>\n",
       "    <tr>\n",
       "      <th>3</th>\n",
       "      <td>Less than HS</td>\n",
       "      <td>34.4</td>\n",
       "      <td>40.765956</td>\n",
       "      <td>15.127674</td>\n",
       "    </tr>\n",
       "    <tr>\n",
       "      <th>4</th>\n",
       "      <td>Less than HS</td>\n",
       "      <td>76.2</td>\n",
       "      <td>40.765956</td>\n",
       "      <td>15.127674</td>\n",
       "    </tr>\n",
       "    <tr>\n",
       "      <th>...</th>\n",
       "      <td>...</td>\n",
       "      <td>...</td>\n",
       "      <td>...</td>\n",
       "      <td>...</td>\n",
       "    </tr>\n",
       "    <tr>\n",
       "      <th>1167</th>\n",
       "      <td>Graduate</td>\n",
       "      <td>52.7</td>\n",
       "      <td>40.765956</td>\n",
       "      <td>15.127674</td>\n",
       "    </tr>\n",
       "    <tr>\n",
       "      <th>1168</th>\n",
       "      <td>Graduate</td>\n",
       "      <td>59.8</td>\n",
       "      <td>40.765956</td>\n",
       "      <td>15.127674</td>\n",
       "    </tr>\n",
       "    <tr>\n",
       "      <th>1169</th>\n",
       "      <td>Graduate</td>\n",
       "      <td>54.1</td>\n",
       "      <td>40.765956</td>\n",
       "      <td>15.127674</td>\n",
       "    </tr>\n",
       "    <tr>\n",
       "      <th>1170</th>\n",
       "      <td>Graduate</td>\n",
       "      <td>39.9</td>\n",
       "      <td>40.765956</td>\n",
       "      <td>15.127674</td>\n",
       "    </tr>\n",
       "    <tr>\n",
       "      <th>1171</th>\n",
       "      <td>Graduate</td>\n",
       "      <td>58.2</td>\n",
       "      <td>40.765956</td>\n",
       "      <td>15.127674</td>\n",
       "    </tr>\n",
       "  </tbody>\n",
       "</table>\n",
       "<p>1172 rows × 4 columns</p>\n",
       "</div>"
      ],
      "text/plain": [
       "            degree  value       mean    std_dev\n",
       "0     Less than HS   45.0  40.765956  15.127674\n",
       "1     Less than HS   26.0  40.765956  15.127674\n",
       "2     Less than HS   43.8  40.765956  15.127674\n",
       "3     Less than HS   34.4  40.765956  15.127674\n",
       "4     Less than HS   76.2  40.765956  15.127674\n",
       "...            ...    ...        ...        ...\n",
       "1167      Graduate   52.7  40.765956  15.127674\n",
       "1168      Graduate   59.8  40.765956  15.127674\n",
       "1169      Graduate   54.1  40.765956  15.127674\n",
       "1170      Graduate   39.9  40.765956  15.127674\n",
       "1171      Graduate   58.2  40.765956  15.127674\n",
       "\n",
       "[1172 rows x 4 columns]"
      ]
     },
     "execution_count": 36,
     "metadata": {},
     "output_type": "execute_result"
    }
   ],
   "source": [
    "d"
   ]
  },
  {
   "cell_type": "code",
   "execution_count": 37,
   "metadata": {},
   "outputs": [],
   "source": [
    "s_S_T= ((d['value']-d['mean'])**2).sum()"
   ]
  },
  {
   "cell_type": "code",
   "execution_count": 38,
   "metadata": {},
   "outputs": [
    {
     "data": {
      "text/plain": [
       "267979.29162969283"
      ]
     },
     "execution_count": 38,
     "metadata": {},
     "output_type": "execute_result"
    }
   ],
   "source": [
    "s_S_T"
   ]
  },
  {
   "cell_type": "code",
   "execution_count": 39,
   "metadata": {},
   "outputs": [
    {
     "data": {
      "text/plain": [
       "263802.83894178807"
      ]
     },
     "execution_count": 39,
     "metadata": {},
     "output_type": "execute_result"
    }
   ],
   "source": [
    "s_S_E=s_S_T-s_S_G\n",
    "s_S_E"
   ]
  },
  {
   "cell_type": "code",
   "execution_count": 40,
   "metadata": {},
   "outputs": [],
   "source": [
    "m_S_G=s_S_G/4\n",
    "m_S_E= s_S_E/df_error\n",
    "f=m_S_G/m_S_E"
   ]
  },
  {
   "cell_type": "code",
   "execution_count": 41,
   "metadata": {},
   "outputs": [
    {
     "data": {
      "text/plain": [
       "4.618904317269629"
      ]
     },
     "execution_count": 41,
     "metadata": {},
     "output_type": "execute_result"
    }
   ],
   "source": [
    "f"
   ]
  },
  {
   "cell_type": "code",
   "execution_count": 42,
   "metadata": {},
   "outputs": [
    {
     "data": {
      "text/plain": [
       "4"
      ]
     },
     "execution_count": 42,
     "metadata": {},
     "output_type": "execute_result"
    }
   ],
   "source": [
    "df_group"
   ]
  },
  {
   "cell_type": "code",
   "execution_count": 43,
   "metadata": {},
   "outputs": [
    {
     "data": {
      "text/plain": [
       "0.001055731814093054"
      ]
     },
     "execution_count": 43,
     "metadata": {},
     "output_type": "execute_result"
    }
   ],
   "source": [
    "stats.f(df_group,df_error).sf(f)"
   ]
  },
  {
   "cell_type": "code",
   "execution_count": 44,
   "metadata": {},
   "outputs": [
    {
     "data": {
      "text/plain": [
       "'\\n\\nHENCE WE SEE THE VALUE IS VERY LOW AND NULL HYPOTHESIS REJECTED\\n\\n'"
      ]
     },
     "execution_count": 44,
     "metadata": {},
     "output_type": "execute_result"
    }
   ],
   "source": [
    "'''\n",
    "\n",
    "HENCE WE SEE THE VALUE IS VERY LOW AND NULL HYPOTHESIS REJECTED\n",
    "\n",
    "'''"
   ]
  },
  {
   "cell_type": "code",
   "execution_count": 45,
   "metadata": {},
   "outputs": [],
   "source": [
    "alpha_star= 0.05/5"
   ]
  },
  {
   "cell_type": "code",
   "execution_count": 46,
   "metadata": {},
   "outputs": [
    {
     "data": {
      "text/plain": [
       "0.01"
      ]
     },
     "execution_count": 46,
     "metadata": {},
     "output_type": "execute_result"
    }
   ],
   "source": [
    "alpha_star"
   ]
  },
  {
   "cell_type": "code",
   "execution_count": 47,
   "metadata": {},
   "outputs": [
    {
     "data": {
      "text/plain": [
       "<AxesSubplot:>"
      ]
     },
     "execution_count": 47,
     "metadata": {},
     "output_type": "execute_result"
    },
    {
     "data": {
      "image/png": "[encoded data removed]",
      "text/plain": [
       "<Figure size 432x288 with 1 Axes>"
      ]
     },
     "metadata": {
      "needs_background": "light"
     },
     "output_type": "display_data"
    }
   ],
   "source": [
    "# Equal Varablity check:    result: looking equal\n",
    "d_pivot.boxplot(column=['Less than HS','HS','Jr Coll',\"Bachelor's\",'Graduate'],grid=False)  # grid= lines in graph"
   ]
  },
  {
   "cell_type": "raw",
   "metadata": {},
   "source": [
    "'''\n",
    "ANALYSIS, RESULT AND EXPLANATION:\n",
    "As we did first the conditions for anova i.e independency, normality and equal variabilty. We did independency as considering it,\n",
    "checked normality with plotting histogram and comparing their curve with normal distribution and this condition was satisfied\n",
    "then we checked for equal variablity using the box plot and found the mean was different for the less than HS compared to JR coll.\n",
    "Thus to prove it we considered the null hypothesis as H0 considering all mean of groups are same mean1=mean2=mean3..\n",
    "and alternate hypothesis as h1: atleast one mean is different. \n",
    "Thus we carried the further analysis by finding the f value using the variabilty between group/ variablity within group and then \n",
    "using this f value to verify the null hyposthesis as true or not and we found the value as 0.001 which proved H1 to be true so \n",
    "we did the type 1 error and found the alpha_star and found the value of p using the formula and pairwise comparision thus finally \n",
    "arriving the the final decision. which is explained in conclusion\n",
    "\n",
    "RESULT:\n",
    "H1 HOLD TRUE AND MEAN VARIES AND LESS THAN HS IS DIFFERENT FROM JR COLL\n",
    "\n",
    "\n",
    "\n",
    "'''"
   ]
  },
  {
   "cell_type": "raw",
   "metadata": {},
   "source": [
    "'''\n",
    "\n",
    "#                              ............Conclusion.................\n",
    "As we see the difference and when calculated, alpha star and using the T value we find the mean difference between Less than HS is \n",
    "different from Jr coll\n",
    "\n",
    "NULL HYPOTHESIS IS REJECTED BECUASE THE MEAN OF LESS THAN HS WAS NOT SAME AS OTHER\n",
    "SO WE TRIED DOING ALL THE TEST ALONG WITH CALCULATING P VALUE AND COMPARING THE BOX PLOT WE FIND IT THEY WERE DIFFERENT AND ANOVA IS VARYING I.E ALTERNATE H1 HYPOTHESIS IS DONE WITH TYPE 1 ERROR AND THEN FINDING THE ALPHA STAR AND P VALUE AND THEN COMPARING THEM GETTING THE DIFFERENCE.\n",
    "\n",
    "'''"
   ]
  },
  {
   "cell_type": "code",
   "execution_count": null,
   "metadata": {},
   "outputs": [],
   "source": []
  }
 ],
 "metadata": {
  "kernelspec": {
   "display_name": "Python 3",
   "language": "python",
   "name": "python3"
  },
  "language_info": {
   "codemirror_mode": {
    "name": "ipython",
    "version": 3
   },
   "file_extension": ".py",
   "mimetype": "text/x-python",
   "name": "python",
   "nbconvert_exporter": "python",
   "pygments_lexer": "ipython3",
   "version": "3.8.5"
  }
 },
 "nbformat": 4,
 "nbformat_minor": 5
}
